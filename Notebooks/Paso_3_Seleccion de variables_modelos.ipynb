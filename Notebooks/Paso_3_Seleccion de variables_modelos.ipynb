{
 "cells": [
  {
   "cell_type": "code",
   "execution_count": 2,
   "metadata": {},
   "outputs": [],
   "source": [
    "import pandas as pd\n",
    "import numpy as np\n",
    "import matplotlib.pyplot as plt\n",
    "import seaborn as sns\n",
    "import missingno as msno\n",
    "\n",
    "import warnings\n",
    "warnings.filterwarnings('ignore')\n",
    "\n",
    "pd.set_option (\"display.max_rows\", None)\n",
    "pd.set_option (\"display.max_columns\", None)\n",
    "pd.set_option (\"display.max_colwidth\",200)"
   ]
  },
  {
   "cell_type": "markdown",
   "metadata": {},
   "source": [
    "# PCA"
   ]
  },
  {
   "cell_type": "code",
   "execution_count": 2,
   "metadata": {},
   "outputs": [],
   "source": [
    "# Hacemos un PCA con todas las variables para ver cómo de solapadas están las clases.\n",
    "# En teoria deberian de estar menos solapadas que antes porque hemos agrupado las clases en 2:\n",
    "# 0: g1+g2+g3 (daños bajos-medios)\n",
    "# 1: g4+g5 (daños altos)\n",
    "# Asumimos que hay errores en la recogida de datos, pero al agrupar asi las clases, deberia de minimizarse."
   ]
  },
  {
   "cell_type": "code",
   "execution_count": 129,
   "metadata": {},
   "outputs": [],
   "source": [
    "df=pd.read_csv(\"paso_2_agrupaciones.csv\", sep=',')"
   ]
  },
  {
   "cell_type": "code",
   "execution_count": 130,
   "metadata": {},
   "outputs": [
    {
     "data": {
      "text/plain": [
       "(818700, 35)"
      ]
     },
     "execution_count": 130,
     "metadata": {},
     "output_type": "execute_result"
    }
   ],
   "source": [
    "df.shape"
   ]
  },
  {
   "cell_type": "code",
   "execution_count": 131,
   "metadata": {},
   "outputs": [
    {
     "data": {
      "text/plain": [
       "Unnamed: 0                                  int64\n",
       "ward_id                                     int64\n",
       "count_floors_pre_eq                         int64\n",
       "age_building                              float64\n",
       "plinth_area_sq_ft                         float64\n",
       "height_ft_pre_eq                          float64\n",
       "land_surface_condition                     object\n",
       "foundation_type                            object\n",
       "roof_type                                  object\n",
       "ground_floor_type                          object\n",
       "other_floor_type                           object\n",
       "position                                   object\n",
       "plan_configuration                         object\n",
       "has_superstructure_adobe_mud                int64\n",
       "has_superstructure_mud_mortar_stone         int64\n",
       "has_superstructure_stone_flag               int64\n",
       "has_superstructure_cement_mortar_stone      int64\n",
       "has_superstructure_mud_mortar_brick         int64\n",
       "has_superstructure_cement_mortar_brick      int64\n",
       "has_superstructure_timber                   int64\n",
       "has_superstructure_bamboo                   int64\n",
       "has_superstructure_rc_non_engineered        int64\n",
       "has_superstructure_rc_engineered            int64\n",
       "has_superstructure_other                    int64\n",
       "damage_grade                               object\n",
       "legal_ownership_status                     object\n",
       "count_families                              int64\n",
       "has_secondary_use                           int64\n",
       "gender_household_head                      object\n",
       "age_household_head                          int64\n",
       "caste_household                            object\n",
       "education_level_household_head             object\n",
       "income_level_household                     object\n",
       "size_household                            float64\n",
       "is_bank_account_present_in_household        int64\n",
       "dtype: object"
      ]
     },
     "execution_count": 131,
     "metadata": {},
     "output_type": "execute_result"
    }
   ],
   "source": [
    "df.dtypes"
   ]
  },
  {
   "cell_type": "code",
   "execution_count": 132,
   "metadata": {},
   "outputs": [],
   "source": [
    "df.drop([\"Unnamed: 0\"], axis=1, inplace=True)"
   ]
  },
  {
   "cell_type": "code",
   "execution_count": 133,
   "metadata": {},
   "outputs": [
    {
     "name": "stdout",
     "output_type": "stream",
     "text": [
      "damage_grade\n",
      "[1 0]\n",
      "['ward_id', 'count_floors_pre_eq', 'age_building', 'plinth_area_sq_ft', 'height_ft_pre_eq', 'land_surface_condition', 'foundation_type', 'roof_type', 'ground_floor_type', 'other_floor_type', 'position', 'plan_configuration', 'has_superstructure_adobe_mud', 'has_superstructure_mud_mortar_stone', 'has_superstructure_stone_flag', 'has_superstructure_cement_mortar_stone', 'has_superstructure_mud_mortar_brick', 'has_superstructure_cement_mortar_brick', 'has_superstructure_timber', 'has_superstructure_bamboo', 'has_superstructure_rc_non_engineered', 'has_superstructure_rc_engineered', 'has_superstructure_other', 'legal_ownership_status', 'count_families', 'has_secondary_use', 'gender_household_head', 'age_household_head', 'caste_household', 'education_level_household_head', 'income_level_household', 'size_household', 'is_bank_account_present_in_household']\n"
     ]
    }
   ],
   "source": [
    "from sklearn.preprocessing import LabelEncoder\n",
    "le= LabelEncoder()\n",
    "df.damage_grade = le.fit_transform(df.damage_grade)\n",
    "\n",
    "\n",
    "class_column = 'damage_grade'\n",
    "classes_names = df['damage_grade'].unique()\n",
    "attribute_names = list(df.columns)\n",
    "attribute_names.remove(class_column)\n",
    "\n",
    "y = df.damage_grade\n",
    "\n",
    "print(class_column)\n",
    "print(classes_names)\n",
    "print(attribute_names)"
   ]
  },
  {
   "cell_type": "code",
   "execution_count": 134,
   "metadata": {},
   "outputs": [],
   "source": [
    "X = df.drop([\"damage_grade\",], axis=1)\n",
    "X =  pd.get_dummies(X, drop_first= False) "
   ]
  },
  {
   "cell_type": "code",
   "execution_count": 135,
   "metadata": {},
   "outputs": [
    {
     "data": {
      "text/plain": [
       "(818700, 67)"
      ]
     },
     "execution_count": 135,
     "metadata": {},
     "output_type": "execute_result"
    }
   ],
   "source": [
    "X.shape"
   ]
  },
  {
   "cell_type": "code",
   "execution_count": 136,
   "metadata": {},
   "outputs": [
    {
     "data": {
      "text/plain": [
       "ward_id                                         int64\n",
       "count_floors_pre_eq                             int64\n",
       "age_building                                  float64\n",
       "plinth_area_sq_ft                             float64\n",
       "height_ft_pre_eq                              float64\n",
       "has_superstructure_adobe_mud                    int64\n",
       "has_superstructure_mud_mortar_stone             int64\n",
       "has_superstructure_stone_flag                   int64\n",
       "has_superstructure_cement_mortar_stone          int64\n",
       "has_superstructure_mud_mortar_brick             int64\n",
       "has_superstructure_cement_mortar_brick          int64\n",
       "has_superstructure_timber                       int64\n",
       "has_superstructure_bamboo                       int64\n",
       "has_superstructure_rc_non_engineered            int64\n",
       "has_superstructure_rc_engineered                int64\n",
       "has_superstructure_other                        int64\n",
       "count_families                                  int64\n",
       "has_secondary_use                               int64\n",
       "age_household_head                              int64\n",
       "size_household                                float64\n",
       "is_bank_account_present_in_household            int64\n",
       "land_surface_condition_Flat                     uint8\n",
       "land_surface_condition_No Flat                  uint8\n",
       "foundation_type_Mud mortar-Stone/Brick          uint8\n",
       "foundation_type_others                          uint8\n",
       "roof_type_Bamboo/Timber-Heavy roof              uint8\n",
       "roof_type_Bamboo/Timber-Light roof              uint8\n",
       "roof_type_RCC/RB/RBC                            uint8\n",
       "ground_floor_type_Mud                           uint8\n",
       "ground_floor_type_RC                            uint8\n",
       "ground_floor_type_others                        uint8\n",
       "other_floor_type_Not applicable                 uint8\n",
       "other_floor_type_RCC/RB/RBC                     uint8\n",
       "other_floor_type_Timber                         uint8\n",
       "position_Attached >1 side                       uint8\n",
       "position_Attached-1 side                        uint8\n",
       "position_Not attached                           uint8\n",
       "plan_configuration_L-shape                      uint8\n",
       "plan_configuration_Rectangular                  uint8\n",
       "plan_configuration_other                        uint8\n",
       "legal_ownership_status_No Private               uint8\n",
       "legal_ownership_status_Private                  uint8\n",
       "gender_household_head_Female                    uint8\n",
       "gender_household_head_Male                      uint8\n",
       "gender_household_head_no_familias               uint8\n",
       "caste_household_Brahman-Hill                    uint8\n",
       "caste_household_Chhetree                        uint8\n",
       "caste_household_Damai/Dholi                     uint8\n",
       "caste_household_Gurung                          uint8\n",
       "caste_household_Kami                            uint8\n",
       "caste_household_Magar                           uint8\n",
       "caste_household_Newar                           uint8\n",
       "caste_household_Other                           uint8\n",
       "caste_household_Rai                             uint8\n",
       "caste_household_Sarki                           uint8\n",
       "caste_household_Sherpa                          uint8\n",
       "caste_household_Tamang                          uint8\n",
       "caste_household_no_familias                     uint8\n",
       "education_level_household_head_High             uint8\n",
       "education_level_household_head_Illiterate       uint8\n",
       "education_level_household_head_Low              uint8\n",
       "education_level_household_head_Medium           uint8\n",
       "education_level_household_head_no_familias      uint8\n",
       "income_level_household_High                     uint8\n",
       "income_level_household_Low                      uint8\n",
       "income_level_household_Medium                   uint8\n",
       "income_level_household_no_familias              uint8\n",
       "dtype: object"
      ]
     },
     "execution_count": 136,
     "metadata": {},
     "output_type": "execute_result"
    }
   ],
   "source": [
    "X.dtypes"
   ]
  },
  {
   "cell_type": "code",
   "execution_count": 137,
   "metadata": {},
   "outputs": [],
   "source": [
    "from sklearn.preprocessing import StandardScaler\n",
    "from sklearn.decomposition import PCA\n",
    "\n",
    "sc = StandardScaler()\n",
    "sc.fit(X)\n",
    "X_std = sc.transform(X)"
   ]
  },
  {
   "cell_type": "code",
   "execution_count": 138,
   "metadata": {},
   "outputs": [
    {
     "data": {
      "text/plain": [
       "array([[ 3.77558920e-02, -5.73431269e-02, -1.04674966e-01, ...,\n",
       "        -2.11912365e-01,  3.45392353e-02,  2.53515309e-01],\n",
       "       [ 4.17702399e-02, -1.24767307e-02, -7.48548227e-02, ...,\n",
       "         1.34151206e-01,  6.52792343e-02, -3.00296775e-01],\n",
       "       [-2.31209373e-02,  4.20129767e-01,  1.43389437e-01, ...,\n",
       "        -1.26428716e-01,  9.86651700e-02,  2.62746524e-02],\n",
       "       ...,\n",
       "       [-0.00000000e+00,  4.94042410e-18, -2.21811526e-18, ...,\n",
       "         1.12311958e-15,  7.66996238e-16,  7.67609954e-15],\n",
       "       [ 0.00000000e+00,  4.93993529e-19, -2.57720959e-17, ...,\n",
       "         6.00905166e-02,  4.23123251e-02, -8.82604318e-02],\n",
       "       [ 0.00000000e+00,  1.58944416e-16,  1.20611627e-17, ...,\n",
       "         8.90645683e-03,  6.27142050e-03,  1.96050200e-01]])"
      ]
     },
     "execution_count": 138,
     "metadata": {},
     "output_type": "execute_result"
    }
   ],
   "source": [
    "pca = PCA()\n",
    "X_pca= pca.fit_transform(X_std)\n",
    "pca.components_"
   ]
  },
  {
   "cell_type": "code",
   "execution_count": 139,
   "metadata": {},
   "outputs": [
    {
     "name": "stdout",
     "output_type": "stream",
     "text": [
      "(818700, 67)\n",
      "(818700, 67)\n",
      "(818700, 67)\n"
     ]
    }
   ],
   "source": [
    "print(X.shape)\n",
    "print(X_std.shape)\n",
    "print(X_pca.shape)"
   ]
  },
  {
   "cell_type": "code",
   "execution_count": 140,
   "metadata": {},
   "outputs": [
    {
     "name": "stdout",
     "output_type": "stream",
     "text": [
      "\n",
      "-- Estadísticas de los datos proyectados en las componentes principales --\n",
      "\n",
      "* Datos en componente principal 1 :\n",
      "  - Media    : -0.0\n",
      "  - Varianza : 6.894\n",
      "  - Autovalor: 6.894\n",
      "  - Varianza explicada: 10.289 %\n",
      "\n",
      "* Datos en componente principal 2 :\n",
      "  - Media    : 0.0\n",
      "  - Varianza : 5.867\n",
      "  - Autovalor: 5.867\n",
      "  - Varianza explicada: 8.757 %\n",
      "\n",
      "* Datos en componente principal 3 :\n",
      "  - Media    : 0.0\n",
      "  - Varianza : 3.58\n",
      "  - Autovalor: 3.58\n",
      "  - Varianza explicada: 5.343 %\n",
      "\n",
      "* Datos en componente principal 4 :\n",
      "  - Media    : 0.0\n",
      "  - Varianza : 2.366\n",
      "  - Autovalor: 2.366\n",
      "  - Varianza explicada: 3.531 %\n",
      "\n",
      "* Datos en componente principal 5 :\n",
      "  - Media    : -0.0\n",
      "  - Varianza : 2.088\n",
      "  - Autovalor: 2.088\n",
      "  - Varianza explicada: 3.116 %\n",
      "\n",
      "* Datos en componente principal 6 :\n",
      "  - Media    : 0.0\n",
      "  - Varianza : 1.983\n",
      "  - Autovalor: 1.983\n",
      "  - Varianza explicada: 2.959 %\n",
      "\n",
      "* Datos en componente principal 7 :\n",
      "  - Media    : -0.0\n",
      "  - Varianza : 1.972\n",
      "  - Autovalor: 1.972\n",
      "  - Varianza explicada: 2.943 %\n",
      "\n",
      "* Datos en componente principal 8 :\n",
      "  - Media    : 0.0\n",
      "  - Varianza : 1.934\n",
      "  - Autovalor: 1.934\n",
      "  - Varianza explicada: 2.886 %\n",
      "\n",
      "* Datos en componente principal 9 :\n",
      "  - Media    : -0.0\n",
      "  - Varianza : 1.727\n",
      "  - Autovalor: 1.727\n",
      "  - Varianza explicada: 2.578 %\n",
      "\n",
      "* Datos en componente principal 10 :\n",
      "  - Media    : 0.0\n",
      "  - Varianza : 1.648\n",
      "  - Autovalor: 1.648\n",
      "  - Varianza explicada: 2.46 %\n",
      "\n",
      "* Datos en componente principal 11 :\n",
      "  - Media    : 0.0\n",
      "  - Varianza : 1.55\n",
      "  - Autovalor: 1.55\n",
      "  - Varianza explicada: 2.313 %\n",
      "\n",
      "* Datos en componente principal 12 :\n",
      "  - Media    : -0.0\n",
      "  - Varianza : 1.517\n",
      "  - Autovalor: 1.517\n",
      "  - Varianza explicada: 2.265 %\n",
      "\n",
      "* Datos en componente principal 13 :\n",
      "  - Media    : 0.0\n",
      "  - Varianza : 1.481\n",
      "  - Autovalor: 1.481\n",
      "  - Varianza explicada: 2.21 %\n",
      "\n",
      "* Datos en componente principal 14 :\n",
      "  - Media    : -0.0\n",
      "  - Varianza : 1.42\n",
      "  - Autovalor: 1.42\n",
      "  - Varianza explicada: 2.12 %\n",
      "\n",
      "* Datos en componente principal 15 :\n",
      "  - Media    : 0.0\n",
      "  - Varianza : 1.306\n",
      "  - Autovalor: 1.306\n",
      "  - Varianza explicada: 1.949 %\n",
      "\n",
      "* Datos en componente principal 16 :\n",
      "  - Media    : -0.0\n",
      "  - Varianza : 1.276\n",
      "  - Autovalor: 1.276\n",
      "  - Varianza explicada: 1.905 %\n",
      "\n",
      "* Datos en componente principal 17 :\n",
      "  - Media    : -0.0\n",
      "  - Varianza : 1.192\n",
      "  - Autovalor: 1.192\n",
      "  - Varianza explicada: 1.779 %\n",
      "\n",
      "* Datos en componente principal 18 :\n",
      "  - Media    : -0.0\n",
      "  - Varianza : 1.147\n",
      "  - Autovalor: 1.147\n",
      "  - Varianza explicada: 1.711 %\n",
      "\n",
      "* Datos en componente principal 19 :\n",
      "  - Media    : -0.0\n",
      "  - Varianza : 1.127\n",
      "  - Autovalor: 1.127\n",
      "  - Varianza explicada: 1.682 %\n",
      "\n",
      "* Datos en componente principal 20 :\n",
      "  - Media    : -0.0\n",
      "  - Varianza : 1.104\n",
      "  - Autovalor: 1.104\n",
      "  - Varianza explicada: 1.648 %\n",
      "\n",
      "* Datos en componente principal 21 :\n",
      "  - Media    : -0.0\n",
      "  - Varianza : 1.095\n",
      "  - Autovalor: 1.095\n",
      "  - Varianza explicada: 1.634 %\n",
      "\n",
      "* Datos en componente principal 22 :\n",
      "  - Media    : 0.0\n",
      "  - Varianza : 1.065\n",
      "  - Autovalor: 1.065\n",
      "  - Varianza explicada: 1.59 %\n",
      "\n",
      "* Datos en componente principal 23 :\n",
      "  - Media    : -0.0\n",
      "  - Varianza : 1.045\n",
      "  - Autovalor: 1.045\n",
      "  - Varianza explicada: 1.56 %\n",
      "\n",
      "* Datos en componente principal 24 :\n",
      "  - Media    : -0.0\n",
      "  - Varianza : 1.038\n",
      "  - Autovalor: 1.038\n",
      "  - Varianza explicada: 1.55 %\n",
      "\n",
      "* Datos en componente principal 25 :\n",
      "  - Media    : -0.0\n",
      "  - Varianza : 1.032\n",
      "  - Autovalor: 1.032\n",
      "  - Varianza explicada: 1.541 %\n",
      "\n",
      "* Datos en componente principal 26 :\n",
      "  - Media    : 0.0\n",
      "  - Varianza : 1.021\n",
      "  - Autovalor: 1.021\n",
      "  - Varianza explicada: 1.524 %\n",
      "\n",
      "* Datos en componente principal 27 :\n",
      "  - Media    : -0.0\n",
      "  - Varianza : 1.018\n",
      "  - Autovalor: 1.018\n",
      "  - Varianza explicada: 1.52 %\n",
      "\n",
      "* Datos en componente principal 28 :\n",
      "  - Media    : -0.0\n",
      "  - Varianza : 1.015\n",
      "  - Autovalor: 1.015\n",
      "  - Varianza explicada: 1.515 %\n",
      "\n",
      "* Datos en componente principal 29 :\n",
      "  - Media    : -0.0\n",
      "  - Varianza : 1.002\n",
      "  - Autovalor: 1.002\n",
      "  - Varianza explicada: 1.496 %\n",
      "\n",
      "* Datos en componente principal 30 :\n",
      "  - Media    : -0.0\n",
      "  - Varianza : 0.975\n",
      "  - Autovalor: 0.975\n",
      "  - Varianza explicada: 1.455 %\n",
      "\n",
      "* Datos en componente principal 31 :\n",
      "  - Media    : 0.0\n",
      "  - Varianza : 0.958\n",
      "  - Autovalor: 0.958\n",
      "  - Varianza explicada: 1.429 %\n",
      "\n",
      "* Datos en componente principal 32 :\n",
      "  - Media    : -0.0\n",
      "  - Varianza : 0.947\n",
      "  - Autovalor: 0.947\n",
      "  - Varianza explicada: 1.414 %\n",
      "\n",
      "* Datos en componente principal 33 :\n",
      "  - Media    : 0.0\n",
      "  - Varianza : 0.936\n",
      "  - Autovalor: 0.936\n",
      "  - Varianza explicada: 1.398 %\n",
      "\n",
      "* Datos en componente principal 34 :\n",
      "  - Media    : -0.0\n",
      "  - Varianza : 0.899\n",
      "  - Autovalor: 0.899\n",
      "  - Varianza explicada: 1.342 %\n",
      "\n",
      "* Datos en componente principal 35 :\n",
      "  - Media    : -0.0\n",
      "  - Varianza : 0.89\n",
      "  - Autovalor: 0.89\n",
      "  - Varianza explicada: 1.329 %\n",
      "\n",
      "* Datos en componente principal 36 :\n",
      "  - Media    : 0.0\n",
      "  - Varianza : 0.846\n",
      "  - Autovalor: 0.846\n",
      "  - Varianza explicada: 1.263 %\n",
      "\n",
      "* Datos en componente principal 37 :\n",
      "  - Media    : -0.0\n",
      "  - Varianza : 0.824\n",
      "  - Autovalor: 0.824\n",
      "  - Varianza explicada: 1.23 %\n",
      "\n",
      "* Datos en componente principal 38 :\n",
      "  - Media    : -0.0\n",
      "  - Varianza : 0.805\n",
      "  - Autovalor: 0.805\n",
      "  - Varianza explicada: 1.201 %\n",
      "\n",
      "* Datos en componente principal 39 :\n",
      "  - Media    : -0.0\n",
      "  - Varianza : 0.78\n",
      "  - Autovalor: 0.78\n",
      "  - Varianza explicada: 1.164 %\n",
      "\n",
      "* Datos en componente principal 40 :\n",
      "  - Media    : -0.0\n",
      "  - Varianza : 0.723\n",
      "  - Autovalor: 0.723\n",
      "  - Varianza explicada: 1.08 %\n",
      "\n",
      "* Datos en componente principal 41 :\n",
      "  - Media    : -0.0\n",
      "  - Varianza : 0.69\n",
      "  - Autovalor: 0.69\n",
      "  - Varianza explicada: 1.03 %\n",
      "\n",
      "* Datos en componente principal 42 :\n",
      "  - Media    : 0.0\n",
      "  - Varianza : 0.679\n",
      "  - Autovalor: 0.679\n",
      "  - Varianza explicada: 1.014 %\n",
      "\n",
      "* Datos en componente principal 43 :\n",
      "  - Media    : 0.0\n",
      "  - Varianza : 0.579\n",
      "  - Autovalor: 0.579\n",
      "  - Varianza explicada: 0.865 %\n",
      "\n",
      "* Datos en componente principal 44 :\n",
      "  - Media    : 0.0\n",
      "  - Varianza : 0.502\n",
      "  - Autovalor: 0.502\n",
      "  - Varianza explicada: 0.75 %\n",
      "\n",
      "* Datos en componente principal 45 :\n",
      "  - Media    : -0.0\n",
      "  - Varianza : 0.452\n",
      "  - Autovalor: 0.452\n",
      "  - Varianza explicada: 0.674 %\n",
      "\n",
      "* Datos en componente principal 46 :\n",
      "  - Media    : -0.0\n",
      "  - Varianza : 0.362\n",
      "  - Autovalor: 0.362\n",
      "  - Varianza explicada: 0.54 %\n",
      "\n",
      "* Datos en componente principal 47 :\n",
      "  - Media    : -0.0\n",
      "  - Varianza : 0.352\n",
      "  - Autovalor: 0.352\n",
      "  - Varianza explicada: 0.525 %\n",
      "\n",
      "* Datos en componente principal 48 :\n",
      "  - Media    : -0.0\n",
      "  - Varianza : 0.316\n",
      "  - Autovalor: 0.316\n",
      "  - Varianza explicada: 0.472 %\n",
      "\n",
      "* Datos en componente principal 49 :\n",
      "  - Media    : 0.0\n",
      "  - Varianza : 0.275\n",
      "  - Autovalor: 0.275\n",
      "  - Varianza explicada: 0.41 %\n",
      "\n",
      "* Datos en componente principal 50 :\n",
      "  - Media    : 0.0\n",
      "  - Varianza : 0.241\n",
      "  - Autovalor: 0.241\n",
      "  - Varianza explicada: 0.36 %\n",
      "\n",
      "* Datos en componente principal 51 :\n",
      "  - Media    : -0.0\n",
      "  - Varianza : 0.231\n",
      "  - Autovalor: 0.231\n",
      "  - Varianza explicada: 0.345 %\n",
      "\n",
      "* Datos en componente principal 52 :\n",
      "  - Media    : -0.0\n",
      "  - Varianza : 0.225\n",
      "  - Autovalor: 0.225\n",
      "  - Varianza explicada: 0.336 %\n",
      "\n",
      "* Datos en componente principal 53 :\n",
      "  - Media    : -0.0\n",
      "  - Varianza : 0.0\n",
      "  - Autovalor: 0.0\n",
      "  - Varianza explicada: 0.0 %\n",
      "\n",
      "* Datos en componente principal 54 :\n",
      "  - Media    : -0.0\n",
      "  - Varianza : 0.0\n",
      "  - Autovalor: 0.0\n",
      "  - Varianza explicada: 0.0 %\n",
      "\n",
      "* Datos en componente principal 55 :\n",
      "  - Media    : -0.0\n",
      "  - Varianza : 0.0\n",
      "  - Autovalor: 0.0\n",
      "  - Varianza explicada: 0.0 %\n",
      "\n",
      "* Datos en componente principal 56 :\n",
      "  - Media    : 0.0\n",
      "  - Varianza : 0.0\n",
      "  - Autovalor: 0.0\n",
      "  - Varianza explicada: 0.0 %\n",
      "\n",
      "* Datos en componente principal 57 :\n",
      "  - Media    : -0.0\n",
      "  - Varianza : 0.0\n",
      "  - Autovalor: 0.0\n",
      "  - Varianza explicada: 0.0 %\n",
      "\n",
      "* Datos en componente principal 58 :\n",
      "  - Media    : -0.0\n",
      "  - Varianza : 0.0\n",
      "  - Autovalor: 0.0\n",
      "  - Varianza explicada: 0.0 %\n",
      "\n",
      "* Datos en componente principal 59 :\n",
      "  - Media    : -0.0\n",
      "  - Varianza : 0.0\n",
      "  - Autovalor: 0.0\n",
      "  - Varianza explicada: 0.0 %\n",
      "\n",
      "* Datos en componente principal 60 :\n",
      "  - Media    : 0.0\n",
      "  - Varianza : 0.0\n",
      "  - Autovalor: 0.0\n",
      "  - Varianza explicada: 0.0 %\n",
      "\n",
      "* Datos en componente principal 61 :\n",
      "  - Media    : -0.0\n",
      "  - Varianza : 0.0\n",
      "  - Autovalor: 0.0\n",
      "  - Varianza explicada: 0.0 %\n",
      "\n",
      "* Datos en componente principal 62 :\n",
      "  - Media    : -0.0\n",
      "  - Varianza : 0.0\n",
      "  - Autovalor: 0.0\n",
      "  - Varianza explicada: 0.0 %\n",
      "\n",
      "* Datos en componente principal 63 :\n",
      "  - Media    : 0.0\n",
      "  - Varianza : 0.0\n",
      "  - Autovalor: 0.0\n",
      "  - Varianza explicada: 0.0 %\n",
      "\n",
      "* Datos en componente principal 64 :\n",
      "  - Media    : -0.0\n",
      "  - Varianza : 0.0\n",
      "  - Autovalor: 0.0\n",
      "  - Varianza explicada: 0.0 %\n",
      "\n",
      "* Datos en componente principal 65 :\n",
      "  - Media    : 0.0\n",
      "  - Varianza : 0.0\n",
      "  - Autovalor: 0.0\n",
      "  - Varianza explicada: 0.0 %\n",
      "\n",
      "* Datos en componente principal 66 :\n",
      "  - Media    : -0.0\n",
      "  - Varianza : 0.0\n",
      "  - Autovalor: 0.0\n",
      "  - Varianza explicada: 0.0 %\n",
      "\n",
      "* Datos en componente principal 67 :\n"
     ]
    },
    {
     "name": "stdout",
     "output_type": "stream",
     "text": [
      "  - Media    : 0.0\n",
      "  - Varianza : 0.0\n",
      "  - Autovalor: 0.0\n",
      "  - Varianza explicada: 0.0 %\n",
      "\n"
     ]
    }
   ],
   "source": [
    "print()\n",
    "print('-- Estadísticas de los datos proyectados en las componentes principales --')\n",
    "print()\n",
    "#pd.DataFrame(X_pca).describe()\n",
    "\n",
    "for i in range(X_pca.shape[1]):\n",
    "    print(\"* Datos en componente principal\", i+1, \":\")\n",
    "    print(\"  - Media    :\", X_pca[:,i].mean().round(3))\n",
    "    print(\"  - Varianza :\", X_pca[:,i].var(ddof=1).round(3))\n",
    "    print(\"  - Autovalor:\", pca.explained_variance_[i].round(3))\n",
    "    print(\"  - Varianza explicada:\", (100*pca.explained_variance_ratio_[i]).round(3), \"%\")\n",
    "    print()"
   ]
  },
  {
   "cell_type": "code",
   "execution_count": 141,
   "metadata": {},
   "outputs": [
    {
     "data": {
      "image/png": "[encoded data removed]",
      "text/plain": [
       "<Figure size 1080x360 with 1 Axes>"
      ]
     },
     "metadata": {
      "needs_background": "light"
     },
     "output_type": "display_data"
    },
    {
     "data": {
      "image/png": "[encoded data removed]",
      "text/plain": [
       "<Figure size 1080x360 with 1 Axes>"
      ]
     },
     "metadata": {
      "needs_background": "light"
     },
     "output_type": "display_data"
    }
   ],
   "source": [
    "# Cuando estamos por debajo de la linea roja, quiere decir que esos componentes no explican mucho\n",
    "# Vemos que la varianza se estabiliza en 7. Más o menos vemos que necesitamos los 7 primeros componentes\n",
    "# el segundo grafico es acumulativo\n",
    "\n",
    "plt.figure(figsize=(15,5))\n",
    "plt.plot(range(1,pca.n_components_+1), pca.explained_variance_, '-ok')\n",
    "plt.plot([1,pca.n_components_], [1,1], '--r', label='varianza promedio')\n",
    "plt.legend()\n",
    "plt.xlabel('componente principal', fontsize=16)\n",
    "plt.ylabel('varianza', fontsize=16)\n",
    "plt.xticks(range(1,pca.n_components_+1));\n",
    "\n",
    "plt.figure(figsize=(15,5))\n",
    "plt.plot(range(1,pca.n_components_+1),\n",
    "         100*pca.explained_variance_ratio_.cumsum(), '-ok')\n",
    "plt.xlabel('componente principal', fontsize=16)\n",
    "plt.ylabel('% varianza explicada', fontsize=16)\n",
    "plt.xticks(range(1,pca.n_components_+1));"
   ]
  },
  {
   "cell_type": "code",
   "execution_count": 142,
   "metadata": {},
   "outputs": [],
   "source": [
    "# Cuando estamos por debajo de la linea roja, quiere decir que esos componentes no explican mucho\n",
    "# Vemos que la varianza se estabiliza en 16-20. Más o menos vemos que necesitamos los 7 primeros componentes\n",
    "# el segundo grafico es acumulativo"
   ]
  },
  {
   "cell_type": "code",
   "execution_count": 143,
   "metadata": {},
   "outputs": [],
   "source": [
    "pcs_names = ['principal component '+str(i+1) for i in range(pca.n_components_)]\n",
    "pcs_names_short = ['pc '+str(i+1) for i in range(pca.n_components_)]"
   ]
  },
  {
   "cell_type": "code",
   "execution_count": 144,
   "metadata": {},
   "outputs": [
    {
     "data": {
      "image/png": "[encoded data removed]",
      "text/plain": [
       "<Figure size 504x360 with 1 Axes>"
      ]
     },
     "metadata": {
      "needs_background": "light"
     },
     "output_type": "display_data"
    }
   ],
   "source": [
    "pc_x = 0\n",
    "pc_y = 1\n",
    "\n",
    "colors = plt.rcParams['axes.prop_cycle'].by_key()['color']\n",
    "markers = ['s', 'v', 'o', 'd', 's', 'v', 'o', 'd', 's']\n",
    "\n",
    "fig = plt.figure(figsize=(7,5))\n",
    "for label,color,marker in zip(classes_names,colors,markers):\n",
    "    inds = np.where(y == label)[0]\n",
    "    plt.scatter(X_pca[inds, pc_x],\n",
    "                X_pca[inds, pc_y],\n",
    "                s = 60,\n",
    "                c = color,\n",
    "                marker = marker,\n",
    "                alpha = 1.0,\n",
    "                cmap='RdYlGn',\n",
    "                label = label)\n",
    "\n",
    "plt.legend(); plt.grid(); plt.tight_layout()\n",
    "plt.title('PCA space', fontsize=16)\n",
    "plt.xlabel(pcs_names[pc_x], fontsize=16)\n",
    "plt.ylabel(pcs_names[pc_y], fontsize=16)\n",
    "plt.show()\n",
    "#PCA me agrupa los vinos y nosotros no le hemos dado la columna de tipo de vino \n",
    "# con la segunda componente podemos separa el naranja del verde y azul\n",
    "# las componentes no son explicables. No podemos saber que a que variables corresponden"
   ]
  },
  {
   "cell_type": "code",
   "execution_count": 145,
   "metadata": {},
   "outputs": [
    {
     "data": {
      "image/png": "[encoded data removed]",
      "text/plain": [
       "<Figure size 504x360 with 1 Axes>"
      ]
     },
     "metadata": {
      "needs_background": "light"
     },
     "output_type": "display_data"
    }
   ],
   "source": [
    "pc_x = 1\n",
    "pc_y = 2\n",
    "\n",
    "colors = plt.rcParams['axes.prop_cycle'].by_key()['color']\n",
    "markers = ['s', 'v', 'o', 'd', 's', 'v', 'o', 'd', 's']\n",
    "\n",
    "fig = plt.figure(figsize=(7,5))\n",
    "for label,color,marker in zip(classes_names,colors,markers):\n",
    "    inds = np.where(y == label)[0]\n",
    "    plt.scatter(X_pca[inds, pc_x][:100],\n",
    "                X_pca[inds, pc_y][:100],\n",
    "                s = 60,\n",
    "                c = color,\n",
    "                marker = marker,\n",
    "                alpha = 1.0,\n",
    "                cmap='RdYlGn',\n",
    "                label = label)\n",
    "\n",
    "plt.legend(); plt.grid(); plt.tight_layout()\n",
    "plt.title('PCA space', fontsize=16)\n",
    "plt.xlabel(pcs_names[pc_x], fontsize=16)\n",
    "plt.ylabel(pcs_names[pc_y], fontsize=16)\n",
    "plt.show()"
   ]
  },
  {
   "cell_type": "markdown",
   "metadata": {},
   "source": [
    "# Clustering"
   ]
  },
  {
   "cell_type": "code",
   "execution_count": 52,
   "metadata": {},
   "outputs": [],
   "source": [
    "df=pd.read_csv(\"paso_2_agrupaciones.csv\", sep=',')"
   ]
  },
  {
   "cell_type": "code",
   "execution_count": 53,
   "metadata": {},
   "outputs": [
    {
     "data": {
      "text/plain": [
       "Unnamed: 0                                  int64\n",
       "ward_id                                     int64\n",
       "count_floors_pre_eq                         int64\n",
       "age_building                              float64\n",
       "plinth_area_sq_ft                         float64\n",
       "height_ft_pre_eq                          float64\n",
       "land_surface_condition                     object\n",
       "foundation_type                            object\n",
       "roof_type                                  object\n",
       "ground_floor_type                          object\n",
       "other_floor_type                           object\n",
       "position                                   object\n",
       "plan_configuration                         object\n",
       "has_superstructure_adobe_mud                int64\n",
       "has_superstructure_mud_mortar_stone         int64\n",
       "has_superstructure_stone_flag               int64\n",
       "has_superstructure_cement_mortar_stone      int64\n",
       "has_superstructure_mud_mortar_brick         int64\n",
       "has_superstructure_cement_mortar_brick      int64\n",
       "has_superstructure_timber                   int64\n",
       "has_superstructure_bamboo                   int64\n",
       "has_superstructure_rc_non_engineered        int64\n",
       "has_superstructure_rc_engineered            int64\n",
       "has_superstructure_other                    int64\n",
       "damage_grade                               object\n",
       "legal_ownership_status                     object\n",
       "count_families                              int64\n",
       "has_secondary_use                           int64\n",
       "gender_household_head                      object\n",
       "age_household_head                          int64\n",
       "caste_household                            object\n",
       "education_level_household_head             object\n",
       "income_level_household                     object\n",
       "size_household                            float64\n",
       "is_bank_account_present_in_household        int64\n",
       "dtype: object"
      ]
     },
     "execution_count": 53,
     "metadata": {},
     "output_type": "execute_result"
    }
   ],
   "source": [
    "df.dtypes"
   ]
  },
  {
   "cell_type": "code",
   "execution_count": 54,
   "metadata": {},
   "outputs": [],
   "source": [
    "df.drop([\"Unnamed: 0\", \"damage_grade\"], axis=1, inplace=True)"
   ]
  },
  {
   "cell_type": "code",
   "execution_count": 55,
   "metadata": {},
   "outputs": [
    {
     "data": {
      "text/plain": [
       "ward_id                                     int64\n",
       "count_floors_pre_eq                         int64\n",
       "age_building                              float64\n",
       "plinth_area_sq_ft                         float64\n",
       "height_ft_pre_eq                          float64\n",
       "land_surface_condition                     object\n",
       "foundation_type                            object\n",
       "roof_type                                  object\n",
       "ground_floor_type                          object\n",
       "other_floor_type                           object\n",
       "position                                   object\n",
       "plan_configuration                         object\n",
       "has_superstructure_adobe_mud                int64\n",
       "has_superstructure_mud_mortar_stone         int64\n",
       "has_superstructure_stone_flag               int64\n",
       "has_superstructure_cement_mortar_stone      int64\n",
       "has_superstructure_mud_mortar_brick         int64\n",
       "has_superstructure_cement_mortar_brick      int64\n",
       "has_superstructure_timber                   int64\n",
       "has_superstructure_bamboo                   int64\n",
       "has_superstructure_rc_non_engineered        int64\n",
       "has_superstructure_rc_engineered            int64\n",
       "has_superstructure_other                    int64\n",
       "legal_ownership_status                     object\n",
       "count_families                              int64\n",
       "has_secondary_use                           int64\n",
       "gender_household_head                      object\n",
       "age_household_head                          int64\n",
       "caste_household                            object\n",
       "education_level_household_head             object\n",
       "income_level_household                     object\n",
       "size_household                            float64\n",
       "is_bank_account_present_in_household        int64\n",
       "dtype: object"
      ]
     },
     "execution_count": 55,
     "metadata": {},
     "output_type": "execute_result"
    }
   ],
   "source": [
    "df.dtypes"
   ]
  },
  {
   "cell_type": "code",
   "execution_count": 56,
   "metadata": {},
   "outputs": [],
   "source": [
    "X = pd.get_dummies(df, drop_first= False) "
   ]
  },
  {
   "cell_type": "code",
   "execution_count": 57,
   "metadata": {},
   "outputs": [
    {
     "data": {
      "text/plain": [
       "ward_id                                         int64\n",
       "count_floors_pre_eq                             int64\n",
       "age_building                                  float64\n",
       "plinth_area_sq_ft                             float64\n",
       "height_ft_pre_eq                              float64\n",
       "has_superstructure_adobe_mud                    int64\n",
       "has_superstructure_mud_mortar_stone             int64\n",
       "has_superstructure_stone_flag                   int64\n",
       "has_superstructure_cement_mortar_stone          int64\n",
       "has_superstructure_mud_mortar_brick             int64\n",
       "has_superstructure_cement_mortar_brick          int64\n",
       "has_superstructure_timber                       int64\n",
       "has_superstructure_bamboo                       int64\n",
       "has_superstructure_rc_non_engineered            int64\n",
       "has_superstructure_rc_engineered                int64\n",
       "has_superstructure_other                        int64\n",
       "count_families                                  int64\n",
       "has_secondary_use                               int64\n",
       "age_household_head                              int64\n",
       "size_household                                float64\n",
       "is_bank_account_present_in_household            int64\n",
       "land_surface_condition_Flat                     uint8\n",
       "land_surface_condition_No Flat                  uint8\n",
       "foundation_type_Mud mortar-Stone/Brick          uint8\n",
       "foundation_type_others                          uint8\n",
       "roof_type_Bamboo/Timber-Heavy roof              uint8\n",
       "roof_type_Bamboo/Timber-Light roof              uint8\n",
       "roof_type_RCC/RB/RBC                            uint8\n",
       "ground_floor_type_Mud                           uint8\n",
       "ground_floor_type_RC                            uint8\n",
       "ground_floor_type_others                        uint8\n",
       "other_floor_type_Not applicable                 uint8\n",
       "other_floor_type_RCC/RB/RBC                     uint8\n",
       "other_floor_type_Timber                         uint8\n",
       "position_Attached >1 side                       uint8\n",
       "position_Attached-1 side                        uint8\n",
       "position_Not attached                           uint8\n",
       "plan_configuration_L-shape                      uint8\n",
       "plan_configuration_Rectangular                  uint8\n",
       "plan_configuration_other                        uint8\n",
       "legal_ownership_status_No Private               uint8\n",
       "legal_ownership_status_Private                  uint8\n",
       "gender_household_head_Female                    uint8\n",
       "gender_household_head_Male                      uint8\n",
       "gender_household_head_no_familias               uint8\n",
       "caste_household_Brahman-Hill                    uint8\n",
       "caste_household_Chhetree                        uint8\n",
       "caste_household_Damai/Dholi                     uint8\n",
       "caste_household_Gurung                          uint8\n",
       "caste_household_Kami                            uint8\n",
       "caste_household_Magar                           uint8\n",
       "caste_household_Newar                           uint8\n",
       "caste_household_Other                           uint8\n",
       "caste_household_Rai                             uint8\n",
       "caste_household_Sarki                           uint8\n",
       "caste_household_Sherpa                          uint8\n",
       "caste_household_Tamang                          uint8\n",
       "caste_household_no_familias                     uint8\n",
       "education_level_household_head_High             uint8\n",
       "education_level_household_head_Illiterate       uint8\n",
       "education_level_household_head_Low              uint8\n",
       "education_level_household_head_Medium           uint8\n",
       "education_level_household_head_no_familias      uint8\n",
       "income_level_household_High                     uint8\n",
       "income_level_household_Low                      uint8\n",
       "income_level_household_Medium                   uint8\n",
       "income_level_household_no_familias              uint8\n",
       "dtype: object"
      ]
     },
     "execution_count": 57,
     "metadata": {},
     "output_type": "execute_result"
    }
   ],
   "source": [
    "X.dtypes"
   ]
  },
  {
   "cell_type": "code",
   "execution_count": 58,
   "metadata": {},
   "outputs": [],
   "source": [
    "from sklearn.preprocessing import MinMaxScaler\n",
    "min_max = MinMaxScaler()\n",
    "X_scaled = min_max.fit_transform(X)"
   ]
  },
  {
   "cell_type": "code",
   "execution_count": 59,
   "metadata": {},
   "outputs": [],
   "source": [
    "from sklearn.cluster import KMeans\n",
    "\n",
    "kmeans= KMeans (n_clusters =2)\n",
    "kmeans.fit (X_scaled)\n",
    "\n",
    "labels=kmeans.labels_"
   ]
  },
  {
   "cell_type": "code",
   "execution_count": 60,
   "metadata": {},
   "outputs": [
    {
     "data": {
      "image/png": "[encoded data removed]",
      "text/plain": [
       "<Figure size 864x864 with 1 Axes>"
      ]
     },
     "metadata": {
      "needs_background": "light"
     },
     "output_type": "display_data"
    }
   ],
   "source": [
    "from sklearn.decomposition import PCA\n",
    "from matplotlib import pyplot as plt\n",
    "\n",
    "pca = PCA (n_components =2)\n",
    "X_pca = pca.fit_transform (X_scaled)\n",
    "\n",
    "plt.figure (figsize =(12,12))\n",
    "plt.scatter (X_pca [labels==0, 0], X_pca [labels==0, 1], label =\"Class 1\", c=\"red\")\n",
    "plt.scatter (X_pca [labels==1, 0], X_pca [labels==1, 1], label =\"Class 2\", c=\"blue\")\n",
    "\n",
    "plt.legend()\n",
    "plt.show()"
   ]
  },
  {
   "cell_type": "markdown",
   "metadata": {},
   "source": [
    "# Aprox 1:\n",
    "##        Agrupacion Categorias + colinealidad +  correlación "
   ]
  },
  {
   "cell_type": "code",
   "execution_count": 3,
   "metadata": {},
   "outputs": [],
   "source": [
    "df=pd.read_csv(\"paso_2_agrupaciones.csv\", sep=',')"
   ]
  },
  {
   "cell_type": "code",
   "execution_count": 303,
   "metadata": {},
   "outputs": [
    {
     "data": {
      "text/plain": [
       "Unnamed: 0                                  int64\n",
       "ward_id                                     int64\n",
       "count_floors_pre_eq                         int64\n",
       "age_building                              float64\n",
       "plinth_area_sq_ft                         float64\n",
       "height_ft_pre_eq                          float64\n",
       "land_surface_condition                     object\n",
       "foundation_type                            object\n",
       "roof_type                                  object\n",
       "ground_floor_type                          object\n",
       "other_floor_type                           object\n",
       "position                                   object\n",
       "plan_configuration                         object\n",
       "has_superstructure_adobe_mud                int64\n",
       "has_superstructure_mud_mortar_stone         int64\n",
       "has_superstructure_stone_flag               int64\n",
       "has_superstructure_cement_mortar_stone      int64\n",
       "has_superstructure_mud_mortar_brick         int64\n",
       "has_superstructure_cement_mortar_brick      int64\n",
       "has_superstructure_timber                   int64\n",
       "has_superstructure_bamboo                   int64\n",
       "has_superstructure_rc_non_engineered        int64\n",
       "has_superstructure_rc_engineered            int64\n",
       "has_superstructure_other                    int64\n",
       "damage_grade                               object\n",
       "legal_ownership_status                     object\n",
       "count_families                              int64\n",
       "has_secondary_use                           int64\n",
       "gender_household_head                      object\n",
       "age_household_head                          int64\n",
       "caste_household                            object\n",
       "education_level_household_head             object\n",
       "income_level_household                     object\n",
       "size_household                            float64\n",
       "is_bank_account_present_in_household        int64\n",
       "dtype: object"
      ]
     },
     "execution_count": 303,
     "metadata": {},
     "output_type": "execute_result"
    }
   ],
   "source": [
    "df.dtypes"
   ]
  },
  {
   "cell_type": "code",
   "execution_count": 4,
   "metadata": {},
   "outputs": [],
   "source": [
    "df.drop([\"Unnamed: 0\"], axis=1, inplace=True)"
   ]
  },
  {
   "cell_type": "code",
   "execution_count": 305,
   "metadata": {},
   "outputs": [
    {
     "data": {
      "text/plain": [
       "(818700, 34)"
      ]
     },
     "execution_count": 305,
     "metadata": {},
     "output_type": "execute_result"
    }
   ],
   "source": [
    "df.shape"
   ]
  },
  {
   "cell_type": "markdown",
   "metadata": {},
   "source": [
    "### 1. Transformamos los datos y el target a matriz numérica con la que trabajar"
   ]
  },
  {
   "cell_type": "code",
   "execution_count": 5,
   "metadata": {},
   "outputs": [],
   "source": [
    "from sklearn.preprocessing import LabelEncoder\n",
    "le= LabelEncoder()\n",
    "\n",
    "df.damage_grade = le.fit_transform(df.damage_grade)"
   ]
  },
  {
   "cell_type": "code",
   "execution_count": 6,
   "metadata": {},
   "outputs": [],
   "source": [
    "df_num = pd.get_dummies(df, drop_first= False) "
   ]
  },
  {
   "cell_type": "code",
   "execution_count": 346,
   "metadata": {},
   "outputs": [
    {
     "data": {
      "text/plain": [
       "(818700, 68)"
      ]
     },
     "execution_count": 346,
     "metadata": {},
     "output_type": "execute_result"
    }
   ],
   "source": [
    "df_num.shape"
   ]
  },
  {
   "cell_type": "code",
   "execution_count": 256,
   "metadata": {},
   "outputs": [
    {
     "data": {
      "text/plain": [
       "ward_id                                         int64\n",
       "count_floors_pre_eq                             int64\n",
       "age_building                                  float64\n",
       "plinth_area_sq_ft                             float64\n",
       "height_ft_pre_eq                              float64\n",
       "has_superstructure_adobe_mud                    int64\n",
       "has_superstructure_mud_mortar_stone             int64\n",
       "has_superstructure_stone_flag                   int64\n",
       "has_superstructure_cement_mortar_stone          int64\n",
       "has_superstructure_mud_mortar_brick             int64\n",
       "has_superstructure_cement_mortar_brick          int64\n",
       "has_superstructure_timber                       int64\n",
       "has_superstructure_bamboo                       int64\n",
       "has_superstructure_rc_non_engineered            int64\n",
       "has_superstructure_rc_engineered                int64\n",
       "has_superstructure_other                        int64\n",
       "damage_grade                                    int32\n",
       "count_families                                  int64\n",
       "has_secondary_use                               int64\n",
       "age_household_head                              int64\n",
       "size_household                                float64\n",
       "is_bank_account_present_in_household            int64\n",
       "land_surface_condition_Flat                     uint8\n",
       "land_surface_condition_No Flat                  uint8\n",
       "foundation_type_Mud mortar-Stone/Brick          uint8\n",
       "foundation_type_others                          uint8\n",
       "roof_type_Bamboo/Timber-Heavy roof              uint8\n",
       "roof_type_Bamboo/Timber-Light roof              uint8\n",
       "roof_type_RCC/RB/RBC                            uint8\n",
       "ground_floor_type_Mud                           uint8\n",
       "ground_floor_type_RC                            uint8\n",
       "ground_floor_type_others                        uint8\n",
       "other_floor_type_Not applicable                 uint8\n",
       "other_floor_type_RCC/RB/RBC                     uint8\n",
       "other_floor_type_Timber                         uint8\n",
       "position_Attached >1 side                       uint8\n",
       "position_Attached-1 side                        uint8\n",
       "position_Not attached                           uint8\n",
       "plan_configuration_L-shape                      uint8\n",
       "plan_configuration_Rectangular                  uint8\n",
       "plan_configuration_other                        uint8\n",
       "legal_ownership_status_No Private               uint8\n",
       "legal_ownership_status_Private                  uint8\n",
       "gender_household_head_Female                    uint8\n",
       "gender_household_head_Male                      uint8\n",
       "gender_household_head_no_familias               uint8\n",
       "caste_household_Brahman-Hill                    uint8\n",
       "caste_household_Chhetree                        uint8\n",
       "caste_household_Damai/Dholi                     uint8\n",
       "caste_household_Gurung                          uint8\n",
       "caste_household_Kami                            uint8\n",
       "caste_household_Magar                           uint8\n",
       "caste_household_Newar                           uint8\n",
       "caste_household_Other                           uint8\n",
       "caste_household_Rai                             uint8\n",
       "caste_household_Sarki                           uint8\n",
       "caste_household_Sherpa                          uint8\n",
       "caste_household_Tamang                          uint8\n",
       "caste_household_no_familias                     uint8\n",
       "education_level_household_head_High             uint8\n",
       "education_level_household_head_Illiterate       uint8\n",
       "education_level_household_head_Low              uint8\n",
       "education_level_household_head_Medium           uint8\n",
       "education_level_household_head_no_familias      uint8\n",
       "income_level_household_High                     uint8\n",
       "income_level_household_Low                      uint8\n",
       "income_level_household_Medium                   uint8\n",
       "income_level_household_no_familias              uint8\n",
       "dtype: object"
      ]
     },
     "execution_count": 256,
     "metadata": {},
     "output_type": "execute_result"
    }
   ],
   "source": [
    "df_num.dtypes"
   ]
  },
  {
   "cell_type": "markdown",
   "metadata": {},
   "source": [
    "### 2. Colinealidad de las variables input"
   ]
  },
  {
   "cell_type": "code",
   "execution_count": 7,
   "metadata": {},
   "outputs": [],
   "source": [
    "df_num_X = df_num.drop([\"damage_grade\"], axis=1)"
   ]
  },
  {
   "cell_type": "code",
   "execution_count": 8,
   "metadata": {},
   "outputs": [],
   "source": [
    "correlated_features = set()\n",
    "correlation_matrix = df_num_X.corr()\n",
    "\n",
    "for i in range(len(correlation_matrix.columns)):\n",
    "    for j in range(i):\n",
    "        if abs(correlation_matrix.iloc[i, j]) > 0.75:\n",
    "            colname = correlation_matrix.columns[i]\n",
    "            correlated_features.add(colname)"
   ]
  },
  {
   "cell_type": "code",
   "execution_count": 9,
   "metadata": {
    "scrolled": true
   },
   "outputs": [
    {
     "data": {
      "text/plain": [
       "{'caste_household_no_familias',\n",
       " 'education_level_household_head_no_familias',\n",
       " 'foundation_type_others',\n",
       " 'gender_household_head_Male',\n",
       " 'gender_household_head_no_familias',\n",
       " 'height_ft_pre_eq',\n",
       " 'income_level_household_no_familias',\n",
       " 'land_surface_condition_No Flat',\n",
       " 'legal_ownership_status_Private',\n",
       " 'other_floor_type_Timber',\n",
       " 'plan_configuration_other',\n",
       " 'position_Not attached',\n",
       " 'roof_type_Bamboo/Timber-Light roof'}"
      ]
     },
     "execution_count": 9,
     "metadata": {},
     "output_type": "execute_result"
    }
   ],
   "source": [
    "correlated_features"
   ]
  },
  {
   "cell_type": "markdown",
   "metadata": {},
   "source": [
    "### 3. Eliminamos las variables input correladas que hemos identificado arriba"
   ]
  },
  {
   "cell_type": "code",
   "execution_count": 10,
   "metadata": {},
   "outputs": [],
   "source": [
    "df1 = df_num.drop(['caste_household_no_familias',\n",
    " 'education_level_household_head_no_familias',\n",
    " 'foundation_type_others',\n",
    " 'gender_household_head_Male',\n",
    " 'gender_household_head_no_familias',\n",
    " 'height_ft_pre_eq',\n",
    " 'income_level_household_no_familias',\n",
    " 'land_surface_condition_No Flat',\n",
    " 'legal_ownership_status_Private',\n",
    " 'other_floor_type_Timber',\n",
    " 'plan_configuration_other',\n",
    " 'position_Not attached',\n",
    " 'roof_type_Bamboo/Timber-Light roof'], axis=1)"
   ]
  },
  {
   "cell_type": "code",
   "execution_count": 11,
   "metadata": {},
   "outputs": [
    {
     "data": {
      "text/plain": [
       "(818700, 55)"
      ]
     },
     "execution_count": 11,
     "metadata": {},
     "output_type": "execute_result"
    }
   ],
   "source": [
    "df1.shape"
   ]
  },
  {
   "cell_type": "code",
   "execution_count": 314,
   "metadata": {},
   "outputs": [
    {
     "data": {
      "text/plain": [
       "ward_id                                        int64\n",
       "count_floors_pre_eq                            int64\n",
       "age_building                                 float64\n",
       "plinth_area_sq_ft                            float64\n",
       "has_superstructure_adobe_mud                   int64\n",
       "has_superstructure_mud_mortar_stone            int64\n",
       "has_superstructure_stone_flag                  int64\n",
       "has_superstructure_cement_mortar_stone         int64\n",
       "has_superstructure_mud_mortar_brick            int64\n",
       "has_superstructure_cement_mortar_brick         int64\n",
       "has_superstructure_timber                      int64\n",
       "has_superstructure_bamboo                      int64\n",
       "has_superstructure_rc_non_engineered           int64\n",
       "has_superstructure_rc_engineered               int64\n",
       "has_superstructure_other                       int64\n",
       "damage_grade                                   int32\n",
       "count_families                                 int64\n",
       "has_secondary_use                              int64\n",
       "age_household_head                             int64\n",
       "size_household                               float64\n",
       "is_bank_account_present_in_household           int64\n",
       "land_surface_condition_Flat                    uint8\n",
       "foundation_type_Mud mortar-Stone/Brick         uint8\n",
       "roof_type_Bamboo/Timber-Heavy roof             uint8\n",
       "roof_type_RCC/RB/RBC                           uint8\n",
       "ground_floor_type_Mud                          uint8\n",
       "ground_floor_type_RC                           uint8\n",
       "ground_floor_type_others                       uint8\n",
       "other_floor_type_Not applicable                uint8\n",
       "other_floor_type_RCC/RB/RBC                    uint8\n",
       "position_Attached >1 side                      uint8\n",
       "position_Attached-1 side                       uint8\n",
       "plan_configuration_L-shape                     uint8\n",
       "plan_configuration_Rectangular                 uint8\n",
       "legal_ownership_status_No Private              uint8\n",
       "gender_household_head_Female                   uint8\n",
       "caste_household_Brahman-Hill                   uint8\n",
       "caste_household_Chhetree                       uint8\n",
       "caste_household_Damai/Dholi                    uint8\n",
       "caste_household_Gurung                         uint8\n",
       "caste_household_Kami                           uint8\n",
       "caste_household_Magar                          uint8\n",
       "caste_household_Newar                          uint8\n",
       "caste_household_Other                          uint8\n",
       "caste_household_Rai                            uint8\n",
       "caste_household_Sarki                          uint8\n",
       "caste_household_Sherpa                         uint8\n",
       "caste_household_Tamang                         uint8\n",
       "education_level_household_head_High            uint8\n",
       "education_level_household_head_Illiterate      uint8\n",
       "education_level_household_head_Low             uint8\n",
       "education_level_household_head_Medium          uint8\n",
       "income_level_household_High                    uint8\n",
       "income_level_household_Low                     uint8\n",
       "income_level_household_Medium                  uint8\n",
       "dtype: object"
      ]
     },
     "execution_count": 314,
     "metadata": {},
     "output_type": "execute_result"
    }
   ],
   "source": [
    "df1.dtypes"
   ]
  },
  {
   "cell_type": "markdown",
   "metadata": {},
   "source": [
    "### 4. Correlación con el Target"
   ]
  },
  {
   "cell_type": "code",
   "execution_count": 348,
   "metadata": {},
   "outputs": [],
   "source": [
    "tabla_correlacion= df1.corr().abs()"
   ]
  },
  {
   "cell_type": "code",
   "execution_count": 349,
   "metadata": {},
   "outputs": [
    {
     "data": {
      "text/plain": [
       "damage_grade                                 1.000000\n",
       "has_superstructure_mud_mortar_stone          0.400688\n",
       "foundation_type_Mud mortar-Stone/Brick       0.373611\n",
       "ground_floor_type_RC                         0.339233\n",
       "has_superstructure_cement_mortar_brick       0.295102\n",
       "roof_type_RCC/RB/RBC                         0.292276\n",
       "ground_floor_type_Mud                        0.244247\n",
       "other_floor_type_RCC/RB/RBC                  0.243141\n",
       "age_building                                 0.220195\n",
       "has_superstructure_rc_non_engineered         0.179738\n",
       "other_floor_type_Not applicable              0.167356\n",
       "count_floors_pre_eq                          0.164926\n",
       "has_superstructure_rc_engineered             0.162486\n",
       "plinth_area_sq_ft                            0.121460\n",
       "has_superstructure_bamboo                    0.100373\n",
       "has_superstructure_timber                    0.096792\n",
       "has_secondary_use                            0.095530\n",
       "plan_configuration_L-shape                   0.073348\n",
       "gender_household_head_Female                 0.072030\n",
       "legal_ownership_status_No Private            0.071624\n",
       "income_level_household_Low                   0.068070\n",
       "age_household_head                           0.065789\n",
       "has_superstructure_cement_mortar_stone       0.063159\n",
       "position_Attached >1 side                    0.058421\n",
       "caste_household_Magar                        0.058340\n",
       "plan_configuration_Rectangular               0.056429\n",
       "has_superstructure_stone_flag                0.053388\n",
       "roof_type_Bamboo/Timber-Heavy roof           0.052095\n",
       "caste_household_Rai                          0.050937\n",
       "education_level_household_head_Illiterate    0.047343\n",
       "position_Attached-1 side                     0.042744\n",
       "caste_household_Gurung                       0.041884\n",
       "caste_household_Chhetree                     0.038212\n",
       "has_superstructure_mud_mortar_brick          0.037651\n",
       "has_superstructure_other                     0.037281\n",
       "caste_household_Sherpa                       0.031747\n",
       "income_level_household_Medium                0.028283\n",
       "income_level_household_High                  0.025973\n",
       "count_families                               0.024386\n",
       "education_level_household_head_Medium        0.023997\n",
       "caste_household_Newar                        0.020894\n",
       "education_level_household_head_High          0.019383\n",
       "is_bank_account_present_in_household         0.019265\n",
       "ground_floor_type_others                     0.019012\n",
       "land_surface_condition_Flat                  0.016182\n",
       "caste_household_Damai/Dholi                  0.015222\n",
       "caste_household_Tamang                       0.015131\n",
       "caste_household_Sarki                        0.014771\n",
       "caste_household_Kami                         0.013551\n",
       "ward_id                                      0.013501\n",
       "education_level_household_head_Low           0.011327\n",
       "size_household                               0.007353\n",
       "caste_household_Other                        0.005786\n",
       "has_superstructure_adobe_mud                 0.003973\n",
       "caste_household_Brahman-Hill                 0.000772\n",
       "Name: damage_grade, dtype: float64"
      ]
     },
     "execution_count": 349,
     "metadata": {},
     "output_type": "execute_result"
    }
   ],
   "source": [
    "filtro = tabla_correlacion[\"damage_grade\"].sort_values(ascending= False)\n",
    "filtro"
   ]
  },
  {
   "cell_type": "code",
   "execution_count": 268,
   "metadata": {
    "scrolled": false
   },
   "outputs": [
    {
     "data": {
      "image/png": "[encoded data removed]",
      "text/plain": [
       "<Figure size 1440x1440 with 4 Axes>"
      ]
     },
     "metadata": {
      "needs_background": "light"
     },
     "output_type": "display_data"
    }
   ],
   "source": [
    "data=df1.corr()\n",
    "matriz = sns.clustermap(data=data, cmap='bwr',vmin=-1,vmax=1,figsize=(20,20))"
   ]
  },
  {
   "cell_type": "code",
   "execution_count": 350,
   "metadata": {},
   "outputs": [
    {
     "data": {
      "text/html": [
       "<div>\n",
       "<style scoped>\n",
       "    .dataframe tbody tr th:only-of-type {\n",
       "        vertical-align: middle;\n",
       "    }\n",
       "\n",
       "    .dataframe tbody tr th {\n",
       "        vertical-align: top;\n",
       "    }\n",
       "\n",
       "    .dataframe thead th {\n",
       "        text-align: right;\n",
       "    }\n",
       "</style>\n",
       "<table border=\"1\" class=\"dataframe\">\n",
       "  <thead>\n",
       "    <tr style=\"text-align: right;\">\n",
       "      <th></th>\n",
       "      <th>damage_grade</th>\n",
       "    </tr>\n",
       "  </thead>\n",
       "  <tbody>\n",
       "    <tr>\n",
       "      <th>education_level_household_head_Illiterate</th>\n",
       "      <td>0.047343</td>\n",
       "    </tr>\n",
       "    <tr>\n",
       "      <th>position_Attached-1 side</th>\n",
       "      <td>0.042744</td>\n",
       "    </tr>\n",
       "    <tr>\n",
       "      <th>caste_household_Gurung</th>\n",
       "      <td>0.041884</td>\n",
       "    </tr>\n",
       "    <tr>\n",
       "      <th>caste_household_Chhetree</th>\n",
       "      <td>0.038212</td>\n",
       "    </tr>\n",
       "    <tr>\n",
       "      <th>has_superstructure_mud_mortar_brick</th>\n",
       "      <td>0.037651</td>\n",
       "    </tr>\n",
       "    <tr>\n",
       "      <th>has_superstructure_other</th>\n",
       "      <td>0.037281</td>\n",
       "    </tr>\n",
       "    <tr>\n",
       "      <th>caste_household_Sherpa</th>\n",
       "      <td>0.031747</td>\n",
       "    </tr>\n",
       "    <tr>\n",
       "      <th>income_level_household_Medium</th>\n",
       "      <td>0.028283</td>\n",
       "    </tr>\n",
       "    <tr>\n",
       "      <th>income_level_household_High</th>\n",
       "      <td>0.025973</td>\n",
       "    </tr>\n",
       "    <tr>\n",
       "      <th>count_families</th>\n",
       "      <td>0.024386</td>\n",
       "    </tr>\n",
       "    <tr>\n",
       "      <th>education_level_household_head_Medium</th>\n",
       "      <td>0.023997</td>\n",
       "    </tr>\n",
       "    <tr>\n",
       "      <th>caste_household_Newar</th>\n",
       "      <td>0.020894</td>\n",
       "    </tr>\n",
       "    <tr>\n",
       "      <th>education_level_household_head_High</th>\n",
       "      <td>0.019383</td>\n",
       "    </tr>\n",
       "    <tr>\n",
       "      <th>is_bank_account_present_in_household</th>\n",
       "      <td>0.019265</td>\n",
       "    </tr>\n",
       "    <tr>\n",
       "      <th>ground_floor_type_others</th>\n",
       "      <td>0.019012</td>\n",
       "    </tr>\n",
       "    <tr>\n",
       "      <th>land_surface_condition_Flat</th>\n",
       "      <td>0.016182</td>\n",
       "    </tr>\n",
       "    <tr>\n",
       "      <th>caste_household_Damai/Dholi</th>\n",
       "      <td>0.015222</td>\n",
       "    </tr>\n",
       "    <tr>\n",
       "      <th>caste_household_Tamang</th>\n",
       "      <td>0.015131</td>\n",
       "    </tr>\n",
       "    <tr>\n",
       "      <th>caste_household_Sarki</th>\n",
       "      <td>0.014771</td>\n",
       "    </tr>\n",
       "    <tr>\n",
       "      <th>caste_household_Kami</th>\n",
       "      <td>0.013551</td>\n",
       "    </tr>\n",
       "    <tr>\n",
       "      <th>ward_id</th>\n",
       "      <td>0.013501</td>\n",
       "    </tr>\n",
       "    <tr>\n",
       "      <th>education_level_household_head_Low</th>\n",
       "      <td>0.011327</td>\n",
       "    </tr>\n",
       "    <tr>\n",
       "      <th>size_household</th>\n",
       "      <td>0.007353</td>\n",
       "    </tr>\n",
       "    <tr>\n",
       "      <th>caste_household_Other</th>\n",
       "      <td>0.005786</td>\n",
       "    </tr>\n",
       "    <tr>\n",
       "      <th>has_superstructure_adobe_mud</th>\n",
       "      <td>0.003973</td>\n",
       "    </tr>\n",
       "    <tr>\n",
       "      <th>caste_household_Brahman-Hill</th>\n",
       "      <td>0.000772</td>\n",
       "    </tr>\n",
       "  </tbody>\n",
       "</table>\n",
       "</div>"
      ],
      "text/plain": [
       "                                           damage_grade\n",
       "education_level_household_head_Illiterate      0.047343\n",
       "position_Attached-1 side                       0.042744\n",
       "caste_household_Gurung                         0.041884\n",
       "caste_household_Chhetree                       0.038212\n",
       "has_superstructure_mud_mortar_brick            0.037651\n",
       "has_superstructure_other                       0.037281\n",
       "caste_household_Sherpa                         0.031747\n",
       "income_level_household_Medium                  0.028283\n",
       "income_level_household_High                    0.025973\n",
       "count_families                                 0.024386\n",
       "education_level_household_head_Medium          0.023997\n",
       "caste_household_Newar                          0.020894\n",
       "education_level_household_head_High            0.019383\n",
       "is_bank_account_present_in_household           0.019265\n",
       "ground_floor_type_others                       0.019012\n",
       "land_surface_condition_Flat                    0.016182\n",
       "caste_household_Damai/Dholi                    0.015222\n",
       "caste_household_Tamang                         0.015131\n",
       "caste_household_Sarki                          0.014771\n",
       "caste_household_Kami                           0.013551\n",
       "ward_id                                        0.013501\n",
       "education_level_household_head_Low             0.011327\n",
       "size_household                                 0.007353\n",
       "caste_household_Other                          0.005786\n",
       "has_superstructure_adobe_mud                   0.003973\n",
       "caste_household_Brahman-Hill                   0.000772"
      ]
     },
     "execution_count": 350,
     "metadata": {},
     "output_type": "execute_result"
    }
   ],
   "source": [
    "variables_a_eliminar = pd.DataFrame(filtro [filtro<0.05])\n",
    "variables_a_eliminar"
   ]
  },
  {
   "cell_type": "code",
   "execution_count": 270,
   "metadata": {},
   "outputs": [],
   "source": [
    "# De las 55, nos dice de eliminar 26 variables!!"
   ]
  },
  {
   "cell_type": "code",
   "execution_count": 351,
   "metadata": {},
   "outputs": [
    {
     "data": {
      "text/plain": [
       "Index(['education_level_household_head_Illiterate', 'position_Attached-1 side',\n",
       "       'caste_household_Gurung', 'caste_household_Chhetree',\n",
       "       'has_superstructure_mud_mortar_brick', 'has_superstructure_other',\n",
       "       'caste_household_Sherpa', 'income_level_household_Medium',\n",
       "       'income_level_household_High', 'count_families',\n",
       "       'education_level_household_head_Medium', 'caste_household_Newar',\n",
       "       'education_level_household_head_High',\n",
       "       'is_bank_account_present_in_household', 'ground_floor_type_others',\n",
       "       'land_surface_condition_Flat', 'caste_household_Damai/Dholi',\n",
       "       'caste_household_Tamang', 'caste_household_Sarki',\n",
       "       'caste_household_Kami', 'ward_id', 'education_level_household_head_Low',\n",
       "       'size_household', 'caste_household_Other',\n",
       "       'has_superstructure_adobe_mud', 'caste_household_Brahman-Hill'],\n",
       "      dtype='object')"
      ]
     },
     "execution_count": 351,
     "metadata": {},
     "output_type": "execute_result"
    }
   ],
   "source": [
    "variables_a_eliminar.T.columns"
   ]
  },
  {
   "cell_type": "code",
   "execution_count": 352,
   "metadata": {},
   "outputs": [],
   "source": [
    "df1_corr= df1.drop(['education_level_household_head_Illiterate', 'position_Attached-1 side',\n",
    "       'caste_household_Gurung', 'caste_household_Chhetree',\n",
    "       'has_superstructure_mud_mortar_brick', 'has_superstructure_other',\n",
    "       'caste_household_Sherpa', 'income_level_household_Medium',\n",
    "       'income_level_household_High', 'count_families',\n",
    "       'education_level_household_head_Medium', 'caste_household_Newar',\n",
    "       'education_level_household_head_High',\n",
    "       'is_bank_account_present_in_household', 'ground_floor_type_others',\n",
    "       'land_surface_condition_Flat', 'caste_household_Damai/Dholi',\n",
    "       'caste_household_Tamang', 'caste_household_Sarki',\n",
    "       'caste_household_Kami', 'ward_id', 'education_level_household_head_Low',\n",
    "       'size_household', 'caste_household_Other',\n",
    "       'has_superstructure_adobe_mud', 'caste_household_Brahman-Hill'], axis=1)"
   ]
  },
  {
   "cell_type": "code",
   "execution_count": 353,
   "metadata": {},
   "outputs": [
    {
     "data": {
      "text/plain": [
       "count_floors_pre_eq                         int64\n",
       "age_building                              float64\n",
       "plinth_area_sq_ft                         float64\n",
       "has_superstructure_mud_mortar_stone         int64\n",
       "has_superstructure_stone_flag               int64\n",
       "has_superstructure_cement_mortar_stone      int64\n",
       "has_superstructure_cement_mortar_brick      int64\n",
       "has_superstructure_timber                   int64\n",
       "has_superstructure_bamboo                   int64\n",
       "has_superstructure_rc_non_engineered        int64\n",
       "has_superstructure_rc_engineered            int64\n",
       "damage_grade                                int32\n",
       "has_secondary_use                           int64\n",
       "age_household_head                          int64\n",
       "foundation_type_Mud mortar-Stone/Brick      uint8\n",
       "roof_type_Bamboo/Timber-Heavy roof          uint8\n",
       "roof_type_RCC/RB/RBC                        uint8\n",
       "ground_floor_type_Mud                       uint8\n",
       "ground_floor_type_RC                        uint8\n",
       "other_floor_type_Not applicable             uint8\n",
       "other_floor_type_RCC/RB/RBC                 uint8\n",
       "position_Attached >1 side                   uint8\n",
       "plan_configuration_L-shape                  uint8\n",
       "plan_configuration_Rectangular              uint8\n",
       "legal_ownership_status_No Private           uint8\n",
       "gender_household_head_Female                uint8\n",
       "caste_household_Magar                       uint8\n",
       "caste_household_Rai                         uint8\n",
       "income_level_household_Low                  uint8\n",
       "dtype: object"
      ]
     },
     "execution_count": 353,
     "metadata": {},
     "output_type": "execute_result"
    }
   ],
   "source": [
    "df1_corr.dtypes"
   ]
  },
  {
   "cell_type": "code",
   "execution_count": 354,
   "metadata": {},
   "outputs": [
    {
     "data": {
      "text/plain": [
       "(818700, 29)"
      ]
     },
     "execution_count": 354,
     "metadata": {},
     "output_type": "execute_result"
    }
   ],
   "source": [
    "df1_corr.shape"
   ]
  },
  {
   "cell_type": "markdown",
   "metadata": {},
   "source": [
    "### 5. Probamos dos modelos predictivos:"
   ]
  },
  {
   "cell_type": "code",
   "execution_count": 322,
   "metadata": {},
   "outputs": [],
   "source": [
    "from sklearn.model_selection import train_test_split\n",
    "\n",
    "X= df1_corr.drop([\"damage_grade\"], axis=1)\n",
    "y= df1_corr.damage_grade\n",
    "\n",
    "X_train, X_test, y_train, y_test = train_test_split (X, y, test_size=0.4)"
   ]
  },
  {
   "cell_type": "code",
   "execution_count": 323,
   "metadata": {},
   "outputs": [
    {
     "name": "stdout",
     "output_type": "stream",
     "text": [
      "Scoring training: 0.6043422499083914\n",
      "Scoring test    : 0.6050781727128374\n"
     ]
    }
   ],
   "source": [
    "from sklearn.dummy import DummyClassifier\n",
    "\n",
    "clf_dummy = DummyClassifier(strategy='most_frequent')\n",
    "clf_dummy.fit(X_train,y_train)\n",
    "\n",
    "print(\"Scoring training:\", clf_dummy.score(X_train, y_train))\n",
    "print(\"Scoring test    :\", clf_dummy.score(X_test, y_test))"
   ]
  },
  {
   "cell_type": "code",
   "execution_count": 324,
   "metadata": {},
   "outputs": [
    {
     "data": {
      "text/plain": [
       "XGBClassifier(base_score=0.5, booster='gbtree', colsample_bylevel=1,\n",
       "       colsample_bynode=1, colsample_bytree=1, gamma=0, learning_rate=0.1,\n",
       "       max_delta_step=0, max_depth=3, min_child_weight=1, missing=None,\n",
       "       n_estimators=100, n_jobs=1, nthread=None,\n",
       "       objective='binary:logistic', random_state=0, reg_alpha=0,\n",
       "       reg_lambda=1, scale_pos_weight=1, seed=None, silent=None,\n",
       "       subsample=1, verbosity=1)"
      ]
     },
     "execution_count": 324,
     "metadata": {},
     "output_type": "execute_result"
    }
   ],
   "source": [
    "from xgboost import XGBClassifier\n",
    "\n",
    "modelXGB = XGBClassifier()\n",
    "modelXGB.fit(X_train, y_train)"
   ]
  },
  {
   "cell_type": "code",
   "execution_count": 325,
   "metadata": {},
   "outputs": [
    {
     "name": "stdout",
     "output_type": "stream",
     "text": [
      "Accuracy: 73.93%\n"
     ]
    }
   ],
   "source": [
    "from sklearn.metrics import accuracy_score\n",
    "\n",
    "y_pred = modelXGB.predict(X_test)\n",
    "predictions = [round(value) for value in y_pred]\n",
    "# evaluate predictions\n",
    "accuracy = accuracy_score(y_test, predictions)\n",
    "print(\"Accuracy: %.2f%%\" % (accuracy * 100.0))"
   ]
  },
  {
   "cell_type": "code",
   "execution_count": 326,
   "metadata": {},
   "outputs": [
    {
     "data": {
      "text/plain": [
       "RandomForestClassifier(bootstrap=True, class_weight=None, criterion='gini',\n",
       "            max_depth=None, max_features='auto', max_leaf_nodes=None,\n",
       "            min_impurity_decrease=0.0, min_impurity_split=None,\n",
       "            min_samples_leaf=1, min_samples_split=2,\n",
       "            min_weight_fraction_leaf=0.0, n_estimators=10, n_jobs=None,\n",
       "            oob_score=False, random_state=None, verbose=0,\n",
       "            warm_start=False)"
      ]
     },
     "execution_count": 326,
     "metadata": {},
     "output_type": "execute_result"
    }
   ],
   "source": [
    "from sklearn.ensemble import RandomForestClassifier\n",
    "\n",
    "modelRF = RandomForestClassifier()\n",
    "modelRF.fit(X_train, y_train)"
   ]
  },
  {
   "cell_type": "code",
   "execution_count": 327,
   "metadata": {},
   "outputs": [
    {
     "name": "stdout",
     "output_type": "stream",
     "text": [
      "Accuracy: 71.18%\n"
     ]
    }
   ],
   "source": [
    "from sklearn.metrics import accuracy_score\n",
    "\n",
    "y_pred = modelRF.predict(X_test)\n",
    "predictions = [round(value) for value in y_pred]\n",
    "# evaluate predictions\n",
    "accuracy = accuracy_score(y_test, predictions)\n",
    "print(\"Accuracy: %.2f%%\" % (accuracy * 100.0))"
   ]
  },
  {
   "cell_type": "markdown",
   "metadata": {},
   "source": [
    "# Aprox 2:\n",
    "##        Agrupacion Categorias + colinealidad +  correlación + RFECV"
   ]
  },
  {
   "cell_type": "code",
   "execution_count": 355,
   "metadata": {},
   "outputs": [
    {
     "data": {
      "text/plain": [
       "(818700, 29)"
      ]
     },
     "execution_count": 355,
     "metadata": {},
     "output_type": "execute_result"
    }
   ],
   "source": [
    "df1_corr.shape"
   ]
  },
  {
   "cell_type": "code",
   "execution_count": 356,
   "metadata": {},
   "outputs": [],
   "source": [
    "X = df1_corr.drop([\"damage_grade\"], axis=1)\n",
    "y= df1_corr.damage_grade"
   ]
  },
  {
   "cell_type": "code",
   "execution_count": 330,
   "metadata": {},
   "outputs": [
    {
     "data": {
      "text/plain": [
       "(818700, 28)"
      ]
     },
     "execution_count": 330,
     "metadata": {},
     "output_type": "execute_result"
    }
   ],
   "source": [
    "X.shape"
   ]
  },
  {
   "cell_type": "code",
   "execution_count": 331,
   "metadata": {},
   "outputs": [
    {
     "data": {
      "text/plain": [
       "count_floors_pre_eq                         int64\n",
       "age_building                              float64\n",
       "plinth_area_sq_ft                         float64\n",
       "has_superstructure_mud_mortar_stone         int64\n",
       "has_superstructure_stone_flag               int64\n",
       "has_superstructure_cement_mortar_stone      int64\n",
       "has_superstructure_cement_mortar_brick      int64\n",
       "has_superstructure_timber                   int64\n",
       "has_superstructure_bamboo                   int64\n",
       "has_superstructure_rc_non_engineered        int64\n",
       "has_superstructure_rc_engineered            int64\n",
       "damage_grade                                int32\n",
       "has_secondary_use                           int64\n",
       "age_household_head                          int64\n",
       "foundation_type_Mud mortar-Stone/Brick      uint8\n",
       "roof_type_Bamboo/Timber-Heavy roof          uint8\n",
       "roof_type_RCC/RB/RBC                        uint8\n",
       "ground_floor_type_Mud                       uint8\n",
       "ground_floor_type_RC                        uint8\n",
       "other_floor_type_Not applicable             uint8\n",
       "other_floor_type_RCC/RB/RBC                 uint8\n",
       "position_Attached >1 side                   uint8\n",
       "plan_configuration_L-shape                  uint8\n",
       "plan_configuration_Rectangular              uint8\n",
       "legal_ownership_status_No Private           uint8\n",
       "gender_household_head_Female                uint8\n",
       "caste_household_Magar                       uint8\n",
       "caste_household_Rai                         uint8\n",
       "income_level_household_Low                  uint8\n",
       "dtype: object"
      ]
     },
     "execution_count": 331,
     "metadata": {},
     "output_type": "execute_result"
    }
   ],
   "source": [
    "df1_corr.dtypes"
   ]
  },
  {
   "cell_type": "code",
   "execution_count": 332,
   "metadata": {},
   "outputs": [
    {
     "name": "stdout",
     "output_type": "stream",
     "text": [
      "Accuracy: 0.830 (0.037)\n",
      "Column: 0, Selected True, Rank: 1.000\n",
      "Column: 1, Selected True, Rank: 1.000\n",
      "Column: 2, Selected False, Rank: 4.000\n",
      "Column: 3, Selected True, Rank: 1.000\n",
      "Column: 4, Selected False, Rank: 6.000\n",
      "Column: 5, Selected False, Rank: 10.000\n",
      "Column: 6, Selected True, Rank: 1.000\n",
      "Column: 7, Selected True, Rank: 1.000\n",
      "Column: 8, Selected True, Rank: 1.000\n",
      "Column: 9, Selected True, Rank: 1.000\n",
      "Column: 10, Selected True, Rank: 1.000\n",
      "Column: 11, Selected False, Rank: 12.000\n",
      "Column: 12, Selected False, Rank: 7.000\n",
      "Column: 13, Selected False, Rank: 13.000\n",
      "Column: 14, Selected False, Rank: 9.000\n",
      "Column: 15, Selected False, Rank: 8.000\n",
      "Column: 16, Selected True, Rank: 1.000\n",
      "Column: 17, Selected True, Rank: 1.000\n",
      "Column: 18, Selected False, Rank: 5.000\n",
      "Column: 19, Selected True, Rank: 1.000\n",
      "Column: 20, Selected False, Rank: 14.000\n",
      "Column: 21, Selected False, Rank: 11.000\n",
      "Column: 22, Selected True, Rank: 1.000\n",
      "Column: 23, Selected False, Rank: 3.000\n",
      "Column: 24, Selected False, Rank: 2.000\n",
      "Column: 25, Selected True, Rank: 1.000\n",
      "Column: 26, Selected True, Rank: 1.000\n",
      "Column: 27, Selected True, Rank: 1.000\n"
     ]
    }
   ],
   "source": [
    "# automatically select the number of features for RFE\n",
    "from numpy import mean\n",
    "from numpy import std\n",
    "from sklearn.datasets import make_classification\n",
    "from sklearn.model_selection import cross_val_score\n",
    "from sklearn.model_selection import RepeatedStratifiedKFold\n",
    "from sklearn.feature_selection import RFECV\n",
    "from sklearn.tree import DecisionTreeClassifier\n",
    "from sklearn.pipeline import Pipeline\n",
    "# define dataset\n",
    "X, y = make_classification(n_samples=1000, n_features=28, n_informative=10, n_redundant=10, random_state=1)\n",
    "# create pipeline\n",
    "rfe = RFECV(estimator=RandomForestClassifier())\n",
    "model = DecisionTreeClassifier()\n",
    "pipeline = Pipeline(steps=[('s',rfe),('m',model)])\n",
    "# evaluate model\n",
    "cv = RepeatedStratifiedKFold(n_splits=10, n_repeats=3, random_state=1)\n",
    "n_scores = cross_val_score(pipeline, X, y, scoring='accuracy', cv=cv, n_jobs=-1, error_score='raise')\n",
    "# report performance\n",
    "print('Accuracy: %.3f (%.3f)' % (mean(n_scores), std(n_scores)))\n",
    "# fit RFE\n",
    "rfe.fit(X, y)\n",
    "# summarize all features\n",
    "for i in range(X.shape[1]):\n",
    "    print('Column: %d, Selected %s, Rank: %.3f' % (i, rfe.support_[i], rfe.ranking_[i]))"
   ]
  },
  {
   "cell_type": "code",
   "execution_count": 335,
   "metadata": {},
   "outputs": [
    {
     "data": {
      "text/plain": [
       "'position_Attached >1 side'"
      ]
     },
     "execution_count": 335,
     "metadata": {},
     "output_type": "execute_result"
    }
   ],
   "source": [
    "# rank 1\n",
    "\"count_floors_pre_eq\",\n",
    "\"age_building\",\n",
    "\"has_superstructure_mud_mortar_stone\",\n",
    "\"has_superstructure_cement_mortar_brick\",\n",
    "\"has_superstructure_timber\",\n",
    "\"has_superstructure_bamboo\",\n",
    "\"has_superstructure_rc_non_engineered\",\n",
    "\"has_superstructure_rc_engineered\",\n",
    "\"ground_floor_type_Mud\",\n",
    "\"ground_floor_type_RC\",\n",
    "\"other_floor_type_RCC/RB/RBC\",\n",
    "\"plan_configuration_Rectangular\",\n",
    "\"caste_household_Magar\",\n",
    "\"caste_household_Rai\",\n",
    "\"income_level_household_Low\",\n",
    "\n",
    "#resto (13)\n",
    "\"gender_household_head_Female\",\n",
    "\"legal_ownership_status_No Private\",\n",
    "\"plinth_area_sq_ft\",\n",
    "\"other_floor_type_Not applicable\",\n",
    "\"has_superstructure_stone_flag\",\n",
    "\"age_household_head\",\n",
    "\"roof_type_RCC/RB/RBC\",\n",
    "\"roof_type_Bamboo/Timber-Heavy roof\",\n",
    "\"has_superstructure_cement_mortar_stone\",\n",
    "\"plan_configuration_L-shape\",\n",
    "\"has_secondary_use\",\n",
    "\"foundation_type_Mud mortar-Stone/Brick\",\n",
    "\"position_Attached >1 side\""
   ]
  },
  {
   "cell_type": "code",
   "execution_count": 357,
   "metadata": {},
   "outputs": [],
   "source": [
    "df_aprox2= df1_corr.drop([\"gender_household_head_Female\",\n",
    "\"legal_ownership_status_No Private\",\n",
    "\"plinth_area_sq_ft\",\n",
    "\"other_floor_type_Not applicable\",\n",
    "\"has_superstructure_stone_flag\",\n",
    "\"age_household_head\",\n",
    "\"roof_type_RCC/RB/RBC\",\n",
    "\"roof_type_Bamboo/Timber-Heavy roof\",\n",
    "\"has_superstructure_cement_mortar_stone\",\n",
    "\"plan_configuration_L-shape\",\n",
    "\"has_secondary_use\",\n",
    "\"foundation_type_Mud mortar-Stone/Brick\",\n",
    "\"position_Attached >1 side\"], axis=1)"
   ]
  },
  {
   "cell_type": "code",
   "execution_count": 358,
   "metadata": {},
   "outputs": [],
   "source": [
    "from sklearn.model_selection import train_test_split\n",
    "\n",
    "X= df_aprox2.drop([\"damage_grade\"], axis=1)\n",
    "y= df_aprox2.damage_grade\n",
    "\n",
    "X_train, X_test, y_train, y_test = train_test_split (X, y, test_size=0.4)"
   ]
  },
  {
   "cell_type": "code",
   "execution_count": 359,
   "metadata": {},
   "outputs": [
    {
     "data": {
      "text/plain": [
       "XGBClassifier(base_score=0.5, booster='gbtree', colsample_bylevel=1,\n",
       "       colsample_bynode=1, colsample_bytree=1, gamma=0, learning_rate=0.1,\n",
       "       max_delta_step=0, max_depth=3, min_child_weight=1, missing=None,\n",
       "       n_estimators=100, n_jobs=1, nthread=None,\n",
       "       objective='binary:logistic', random_state=0, reg_alpha=0,\n",
       "       reg_lambda=1, scale_pos_weight=1, seed=None, silent=None,\n",
       "       subsample=1, verbosity=1)"
      ]
     },
     "execution_count": 359,
     "metadata": {},
     "output_type": "execute_result"
    }
   ],
   "source": [
    "from xgboost import XGBClassifier\n",
    "\n",
    "modelXGB = XGBClassifier()\n",
    "modelXGB.fit(X_train, y_train)"
   ]
  },
  {
   "cell_type": "code",
   "execution_count": 360,
   "metadata": {},
   "outputs": [
    {
     "name": "stdout",
     "output_type": "stream",
     "text": [
      "Accuracy: 73.06%\n"
     ]
    }
   ],
   "source": [
    "from sklearn.metrics import accuracy_score\n",
    "\n",
    "y_pred = modelXGB.predict(X_test)\n",
    "predictions = [round(value) for value in y_pred]\n",
    "# evaluate predictions\n",
    "accuracy = accuracy_score(y_test, predictions)\n",
    "print(\"Accuracy: %.2f%%\" % (accuracy * 100.0))"
   ]
  },
  {
   "cell_type": "code",
   "execution_count": 361,
   "metadata": {},
   "outputs": [
    {
     "data": {
      "text/plain": [
       "RandomForestClassifier(bootstrap=True, class_weight=None, criterion='gini',\n",
       "            max_depth=None, max_features='auto', max_leaf_nodes=None,\n",
       "            min_impurity_decrease=0.0, min_impurity_split=None,\n",
       "            min_samples_leaf=1, min_samples_split=2,\n",
       "            min_weight_fraction_leaf=0.0, n_estimators=10, n_jobs=None,\n",
       "            oob_score=False, random_state=None, verbose=0,\n",
       "            warm_start=False)"
      ]
     },
     "execution_count": 361,
     "metadata": {},
     "output_type": "execute_result"
    }
   ],
   "source": [
    "from sklearn.ensemble import RandomForestClassifier\n",
    "\n",
    "modelRF = RandomForestClassifier()\n",
    "modelRF.fit(X_train, y_train)"
   ]
  },
  {
   "cell_type": "code",
   "execution_count": 362,
   "metadata": {},
   "outputs": [
    {
     "name": "stdout",
     "output_type": "stream",
     "text": [
      "Accuracy: 72.92%\n"
     ]
    }
   ],
   "source": [
    "from sklearn.metrics import accuracy_score\n",
    "\n",
    "y_pred = modelRF.predict(X_test)\n",
    "predictions = [round(value) for value in y_pred]\n",
    "# evaluate predictions\n",
    "accuracy = accuracy_score(y_test, predictions)\n",
    "print(\"Accuracy: %.2f%%\" % (accuracy * 100.0))"
   ]
  },
  {
   "cell_type": "markdown",
   "metadata": {},
   "source": [
    "# Aprox 3:\n",
    "##        Agrupacion Categorias + colinealidad + RFECV"
   ]
  },
  {
   "cell_type": "code",
   "execution_count": 12,
   "metadata": {},
   "outputs": [
    {
     "data": {
      "text/plain": [
       "(818700, 55)"
      ]
     },
     "execution_count": 12,
     "metadata": {},
     "output_type": "execute_result"
    }
   ],
   "source": [
    "df1.shape"
   ]
  },
  {
   "cell_type": "markdown",
   "metadata": {},
   "source": [
    "###  RFE CV"
   ]
  },
  {
   "cell_type": "code",
   "execution_count": 13,
   "metadata": {},
   "outputs": [],
   "source": [
    "X = df1.drop([\"damage_grade\"], axis=1)\n",
    "y= df1.damage_grade"
   ]
  },
  {
   "cell_type": "code",
   "execution_count": 14,
   "metadata": {},
   "outputs": [
    {
     "data": {
      "text/plain": [
       "(818700, 54)"
      ]
     },
     "execution_count": 14,
     "metadata": {},
     "output_type": "execute_result"
    }
   ],
   "source": [
    "X.shape"
   ]
  },
  {
   "cell_type": "code",
   "execution_count": 367,
   "metadata": {},
   "outputs": [
    {
     "data": {
      "text/plain": [
       "ward_id                                        int64\n",
       "count_floors_pre_eq                            int64\n",
       "age_building                                 float64\n",
       "plinth_area_sq_ft                            float64\n",
       "has_superstructure_adobe_mud                   int64\n",
       "has_superstructure_mud_mortar_stone            int64\n",
       "has_superstructure_stone_flag                  int64\n",
       "has_superstructure_cement_mortar_stone         int64\n",
       "has_superstructure_mud_mortar_brick            int64\n",
       "has_superstructure_cement_mortar_brick         int64\n",
       "has_superstructure_timber                      int64\n",
       "has_superstructure_bamboo                      int64\n",
       "has_superstructure_rc_non_engineered           int64\n",
       "has_superstructure_rc_engineered               int64\n",
       "has_superstructure_other                       int64\n",
       "damage_grade                                   int32\n",
       "count_families                                 int64\n",
       "has_secondary_use                              int64\n",
       "age_household_head                             int64\n",
       "size_household                               float64\n",
       "is_bank_account_present_in_household           int64\n",
       "land_surface_condition_Flat                    uint8\n",
       "foundation_type_Mud mortar-Stone/Brick         uint8\n",
       "roof_type_Bamboo/Timber-Heavy roof             uint8\n",
       "roof_type_RCC/RB/RBC                           uint8\n",
       "ground_floor_type_Mud                          uint8\n",
       "ground_floor_type_RC                           uint8\n",
       "ground_floor_type_others                       uint8\n",
       "other_floor_type_Not applicable                uint8\n",
       "other_floor_type_RCC/RB/RBC                    uint8\n",
       "position_Attached >1 side                      uint8\n",
       "position_Attached-1 side                       uint8\n",
       "plan_configuration_L-shape                     uint8\n",
       "plan_configuration_Rectangular                 uint8\n",
       "legal_ownership_status_No Private              uint8\n",
       "gender_household_head_Female                   uint8\n",
       "caste_household_Brahman-Hill                   uint8\n",
       "caste_household_Chhetree                       uint8\n",
       "caste_household_Damai/Dholi                    uint8\n",
       "caste_household_Gurung                         uint8\n",
       "caste_household_Kami                           uint8\n",
       "caste_household_Magar                          uint8\n",
       "caste_household_Newar                          uint8\n",
       "caste_household_Other                          uint8\n",
       "caste_household_Rai                            uint8\n",
       "caste_household_Sarki                          uint8\n",
       "caste_household_Sherpa                         uint8\n",
       "caste_household_Tamang                         uint8\n",
       "education_level_household_head_High            uint8\n",
       "education_level_household_head_Illiterate      uint8\n",
       "education_level_household_head_Low             uint8\n",
       "education_level_household_head_Medium          uint8\n",
       "income_level_household_High                    uint8\n",
       "income_level_household_Low                     uint8\n",
       "income_level_household_Medium                  uint8\n",
       "dtype: object"
      ]
     },
     "execution_count": 367,
     "metadata": {},
     "output_type": "execute_result"
    }
   ],
   "source": [
    "df1.dtypes"
   ]
  },
  {
   "cell_type": "markdown",
   "metadata": {},
   "source": [
    "#### Definimos numero optimo de features y calculamos el accuracy de un modelo sencillo"
   ]
  },
  {
   "cell_type": "code",
   "execution_count": 366,
   "metadata": {},
   "outputs": [
    {
     "name": "stdout",
     "output_type": "stream",
     "text": [
      "Accuracy: 0.829 (0.040)\n",
      "Column: 0, Selected True, Rank: 1.000\n",
      "Column: 1, Selected True, Rank: 1.000\n",
      "Column: 2, Selected True, Rank: 1.000\n",
      "Column: 3, Selected True, Rank: 1.000\n",
      "Column: 4, Selected False, Rank: 29.000\n",
      "Column: 5, Selected True, Rank: 1.000\n",
      "Column: 6, Selected False, Rank: 7.000\n",
      "Column: 7, Selected False, Rank: 12.000\n",
      "Column: 8, Selected False, Rank: 31.000\n",
      "Column: 9, Selected False, Rank: 19.000\n",
      "Column: 10, Selected True, Rank: 1.000\n",
      "Column: 11, Selected True, Rank: 1.000\n",
      "Column: 12, Selected False, Rank: 26.000\n",
      "Column: 13, Selected False, Rank: 27.000\n",
      "Column: 14, Selected False, Rank: 32.000\n",
      "Column: 15, Selected False, Rank: 25.000\n",
      "Column: 16, Selected True, Rank: 1.000\n",
      "Column: 17, Selected False, Rank: 4.000\n",
      "Column: 18, Selected True, Rank: 1.000\n",
      "Column: 19, Selected True, Rank: 1.000\n",
      "Column: 20, Selected False, Rank: 18.000\n",
      "Column: 21, Selected False, Rank: 30.000\n",
      "Column: 22, Selected False, Rank: 36.000\n",
      "Column: 23, Selected False, Rank: 5.000\n",
      "Column: 24, Selected True, Rank: 1.000\n",
      "Column: 25, Selected False, Rank: 17.000\n",
      "Column: 26, Selected False, Rank: 10.000\n",
      "Column: 27, Selected True, Rank: 1.000\n",
      "Column: 28, Selected False, Rank: 9.000\n",
      "Column: 29, Selected False, Rank: 13.000\n",
      "Column: 30, Selected True, Rank: 1.000\n",
      "Column: 31, Selected False, Rank: 20.000\n",
      "Column: 32, Selected False, Rank: 3.000\n",
      "Column: 33, Selected False, Rank: 11.000\n",
      "Column: 34, Selected False, Rank: 16.000\n",
      "Column: 35, Selected True, Rank: 1.000\n",
      "Column: 36, Selected True, Rank: 1.000\n",
      "Column: 37, Selected False, Rank: 22.000\n",
      "Column: 38, Selected False, Rank: 23.000\n",
      "Column: 39, Selected False, Rank: 15.000\n",
      "Column: 40, Selected False, Rank: 2.000\n",
      "Column: 41, Selected True, Rank: 1.000\n",
      "Column: 42, Selected False, Rank: 34.000\n",
      "Column: 43, Selected False, Rank: 21.000\n",
      "Column: 44, Selected True, Rank: 1.000\n",
      "Column: 45, Selected False, Rank: 24.000\n",
      "Column: 46, Selected False, Rank: 6.000\n",
      "Column: 47, Selected True, Rank: 1.000\n",
      "Column: 48, Selected False, Rank: 28.000\n",
      "Column: 49, Selected False, Rank: 8.000\n",
      "Column: 50, Selected False, Rank: 33.000\n",
      "Column: 51, Selected False, Rank: 35.000\n",
      "Column: 52, Selected False, Rank: 14.000\n",
      "Column: 53, Selected True, Rank: 1.000\n"
     ]
    }
   ],
   "source": [
    "# automatically select the number of features for RFE\n",
    "from numpy import mean\n",
    "from numpy import std\n",
    "from sklearn.datasets import make_classification\n",
    "from sklearn.model_selection import cross_val_score\n",
    "from sklearn.model_selection import RepeatedStratifiedKFold\n",
    "from sklearn.feature_selection import RFECV\n",
    "from sklearn.tree import DecisionTreeClassifier\n",
    "from sklearn.pipeline import Pipeline\n",
    "# define dataset\n",
    "X, y = make_classification(n_samples=1000, n_features=54, n_informative=10, n_redundant=10, random_state=1)\n",
    "# create pipeline\n",
    "rfe = RFECV(estimator=RandomForestClassifier())\n",
    "model = DecisionTreeClassifier()\n",
    "pipeline = Pipeline(steps=[('s',rfe),('m',model)])\n",
    "# evaluate model\n",
    "cv = RepeatedStratifiedKFold(n_splits=10, n_repeats=3, random_state=1)\n",
    "n_scores = cross_val_score(pipeline, X, y, scoring='accuracy', cv=cv, n_jobs=-1, error_score='raise')\n",
    "# report performance\n",
    "print('Accuracy: %.3f (%.3f)' % (mean(n_scores), std(n_scores)))\n",
    "# fit RFE\n",
    "rfe.fit(X, y)\n",
    "# summarize all features\n",
    "for i in range(X.shape[1]):\n",
    "    print('Column: %d, Selected %s, Rank: %.3f' % (i, rfe.support_[i], rfe.ranking_[i]))"
   ]
  },
  {
   "cell_type": "code",
   "execution_count": null,
   "metadata": {},
   "outputs": [],
   "source": [
    "# rank 1\n",
    "\"ward_id\",\n",
    "\"count_floors_pre_eq\",\n",
    "\"age_building\",\n",
    "\"plinth_area_sq_ft\",\n",
    "\"has_superstructure_mud_mortar_stone\",\n",
    "\"has_superstructure_timber\",\n",
    "\"has_superstructure_bamboo\",\n",
    "\"has_secondary_use\",\n",
    "\"size_household\",\n",
    "\"is_bank_account_present_in_household\",\n",
    "\"ground_floor_type_Mud\",\n",
    "\"other_floor_type_Not applicable\",\n",
    "\"position_Attached-1 side\",\n",
    "\"caste_household_Brahman-Hill\",\n",
    "\"caste_household_Chhetree\",\n",
    "\"caste_household_Newar\",\n",
    "\"caste_household_Sarki\",\n",
    "\"education_level_household_head_High\",\n",
    "\"income_level_household_Medium\",\n",
    "\n",
    "\n",
    "#resto\n",
    "\"caste_household_Magar\",\n",
    "\"plan_configuration_Rectangular\",\n",
    "\"age_household_head\",\n",
    "\"roof_type_RCC/RB/RBC\",\n",
    "\"caste_household_Tamang\",\n",
    "\"has_superstructure_stone_flag\",\n",
    "\"education_level_household_head_Low\",\n",
    "\"other_floor_type_RCC/RB/RBC\",\n",
    "\"ground_floor_type_others\",\n",
    "\"legal_ownership_status_No Private\",\n",
    "\"has_superstructure_cement_mortar_stone\",\n",
    "\"position_Attached >1 side\",\n",
    "\"income_level_household_Low\",\n",
    "\"caste_household_Kami\",\n",
    "\"gender_household_head_Female\",\n",
    "\"ground_floor_type_RC\",\n",
    "\"land_surface_condition_Flat\",\n",
    "\"has_superstructure_cement_mortar_brick\",\n",
    "\"plan_configuration_L-shape\",\n",
    "\"caste_household_Rai\",\n",
    "\"caste_household_Damai/Dholi\",\n",
    "\"caste_household_Gurung\",\n",
    "\"caste_household_Sherpa\",\n",
    "\"count_families\",\n",
    "\"has_superstructure_rc_non_engineered\",\n",
    "\"has_superstructure_rc_engineered\",\n",
    "\"education_level_household_head_Illiterate\",\n",
    "\"has_superstructure_adobe_mud\",\n",
    "\"foundation_type_Mud mortar-Stone/Brick\",\n",
    "\"has_superstructure_mud_mortar_brick\",\n",
    "\"has_superstructure_other\",\n",
    "\"education_level_household_head_Medium\",\n",
    "\"caste_household_Other\",\n",
    "\"income_level_household_High\",\n",
    "\"roof_type_Bamboo/Timber-Heavy roof\","
   ]
  },
  {
   "cell_type": "code",
   "execution_count": 15,
   "metadata": {},
   "outputs": [],
   "source": [
    "df_aprox3 = df1.drop([\"roof_type_RCC/RB/RBC\",\n",
    "\"caste_household_Tamang\",\n",
    "\"has_superstructure_stone_flag\",\n",
    "\"education_level_household_head_Low\",\n",
    "\"other_floor_type_RCC/RB/RBC\",\n",
    "\"ground_floor_type_others\",\n",
    "\"legal_ownership_status_No Private\",\n",
    "\"has_superstructure_cement_mortar_stone\",\n",
    "\"position_Attached >1 side\",\n",
    "\"income_level_household_Low\",\n",
    "\"caste_household_Kami\",\n",
    "\"gender_household_head_Female\",\n",
    "\"ground_floor_type_RC\",\n",
    "\"land_surface_condition_Flat\",\n",
    "\"has_superstructure_cement_mortar_brick\",\n",
    "\"plan_configuration_L-shape\",\n",
    "\"caste_household_Rai\",\n",
    "\"caste_household_Damai/Dholi\",\n",
    "\"caste_household_Gurung\",\n",
    "\"caste_household_Sherpa\",\n",
    "\"count_families\",\n",
    "\"has_superstructure_rc_non_engineered\",\n",
    "\"has_superstructure_rc_engineered\",\n",
    "\"education_level_household_head_Illiterate\",\n",
    "\"has_superstructure_adobe_mud\",\n",
    "\"foundation_type_Mud mortar-Stone/Brick\",\n",
    "\"has_superstructure_mud_mortar_brick\",\n",
    "\"has_superstructure_other\",\n",
    "\"education_level_household_head_Medium\",\n",
    "\"caste_household_Other\",\n",
    "\"income_level_household_High\",\n",
    "\"roof_type_Bamboo/Timber-Heavy roof\"], axis=1)"
   ]
  },
  {
   "cell_type": "code",
   "execution_count": 16,
   "metadata": {},
   "outputs": [],
   "source": [
    "from sklearn.model_selection import train_test_split\n",
    "\n",
    "X= df_aprox3.drop([\"damage_grade\"], axis=1)\n",
    "y= df_aprox3.damage_grade\n",
    "\n",
    "X_train, X_test, y_train, y_test = train_test_split (X, y, test_size=0.4)"
   ]
  },
  {
   "cell_type": "code",
   "execution_count": 370,
   "metadata": {},
   "outputs": [
    {
     "name": "stdout",
     "output_type": "stream",
     "text": [
      "Scoring training: 0.6043015349537886\n",
      "Scoring test    : 0.6051392451447417\n"
     ]
    }
   ],
   "source": [
    "from sklearn.dummy import DummyClassifier\n",
    "\n",
    "clf_dummy = DummyClassifier(strategy='most_frequent')\n",
    "clf_dummy.fit(X_train,y_train)\n",
    "\n",
    "print(\"Scoring training:\", clf_dummy.score(X_train, y_train))\n",
    "print(\"Scoring test    :\", clf_dummy.score(X_test, y_test))"
   ]
  },
  {
   "cell_type": "markdown",
   "metadata": {},
   "source": [
    "### Aplicamos un XGBoost y un RF"
   ]
  },
  {
   "cell_type": "code",
   "execution_count": 17,
   "metadata": {},
   "outputs": [
    {
     "data": {
      "text/plain": [
       "XGBClassifier(base_score=0.5, booster='gbtree', colsample_bylevel=1,\n",
       "       colsample_bynode=1, colsample_bytree=1, gamma=0, learning_rate=0.1,\n",
       "       max_delta_step=0, max_depth=3, min_child_weight=1, missing=None,\n",
       "       n_estimators=100, n_jobs=1, nthread=None,\n",
       "       objective='binary:logistic', random_state=0, reg_alpha=0,\n",
       "       reg_lambda=1, scale_pos_weight=1, seed=None, silent=None,\n",
       "       subsample=1, verbosity=1)"
      ]
     },
     "execution_count": 17,
     "metadata": {},
     "output_type": "execute_result"
    }
   ],
   "source": [
    "from xgboost import XGBClassifier\n",
    "\n",
    "modelXGB = XGBClassifier()\n",
    "modelXGB.fit(X_train, y_train)"
   ]
  },
  {
   "cell_type": "code",
   "execution_count": 18,
   "metadata": {},
   "outputs": [
    {
     "name": "stdout",
     "output_type": "stream",
     "text": [
      "Accuracy: 77.25%\n"
     ]
    }
   ],
   "source": [
    "from sklearn.metrics import accuracy_score\n",
    "\n",
    "y_pred = modelXGB.predict(X_test)\n",
    "predictions = [round(value) for value in y_pred]\n",
    "# evaluate predictions\n",
    "accuracy = accuracy_score(y_test, predictions)\n",
    "print(\"Accuracy: %.2f%%\" % (accuracy * 100.0))"
   ]
  },
  {
   "cell_type": "code",
   "execution_count": 19,
   "metadata": {},
   "outputs": [
    {
     "data": {
      "text/plain": [
       "RandomForestClassifier(bootstrap=True, class_weight=None, criterion='gini',\n",
       "            max_depth=None, max_features='auto', max_leaf_nodes=None,\n",
       "            min_impurity_decrease=0.0, min_impurity_split=None,\n",
       "            min_samples_leaf=1, min_samples_split=2,\n",
       "            min_weight_fraction_leaf=0.0, n_estimators=10, n_jobs=None,\n",
       "            oob_score=False, random_state=None, verbose=0,\n",
       "            warm_start=False)"
      ]
     },
     "execution_count": 19,
     "metadata": {},
     "output_type": "execute_result"
    }
   ],
   "source": [
    "from sklearn.ensemble import RandomForestClassifier\n",
    "\n",
    "modelRF = RandomForestClassifier()\n",
    "modelRF.fit(X_train, y_train)"
   ]
  },
  {
   "cell_type": "code",
   "execution_count": 20,
   "metadata": {},
   "outputs": [
    {
     "name": "stdout",
     "output_type": "stream",
     "text": [
      "Accuracy: 77.46%\n"
     ]
    }
   ],
   "source": [
    "from sklearn.metrics import accuracy_score\n",
    "\n",
    "y_pred = modelRF.predict(X_test)\n",
    "predictions = [round(value) for value in y_pred]\n",
    "# evaluate predictions\n",
    "accuracy = accuracy_score(y_test, predictions)\n",
    "print(\"Accuracy: %.2f%%\" % (accuracy * 100.0))"
   ]
  },
  {
   "cell_type": "markdown",
   "metadata": {},
   "source": [
    "# Aprox 4:\n",
    "##        Agrupacion Categorias + colinealidad"
   ]
  },
  {
   "cell_type": "code",
   "execution_count": 375,
   "metadata": {},
   "outputs": [
    {
     "data": {
      "text/plain": [
       "(818700, 55)"
      ]
     },
     "execution_count": 375,
     "metadata": {},
     "output_type": "execute_result"
    }
   ],
   "source": [
    "df1.shape"
   ]
  },
  {
   "cell_type": "code",
   "execution_count": 376,
   "metadata": {},
   "outputs": [],
   "source": [
    "from sklearn.model_selection import train_test_split\n",
    "\n",
    "X= df1.drop([\"damage_grade\"], axis=1)\n",
    "y= df1.damage_grade\n",
    "\n",
    "X_train, X_test, y_train, y_test = train_test_split (X, y, test_size=0.4)"
   ]
  },
  {
   "cell_type": "code",
   "execution_count": 377,
   "metadata": {},
   "outputs": [
    {
     "name": "stdout",
     "output_type": "stream",
     "text": [
      "Scoring training: 0.604264891494646\n",
      "Scoring test    : 0.6051942103334554\n"
     ]
    }
   ],
   "source": [
    "from sklearn.dummy import DummyClassifier\n",
    "\n",
    "clf_dummy = DummyClassifier(strategy='most_frequent')\n",
    "clf_dummy.fit(X_train,y_train)\n",
    "\n",
    "print(\"Scoring training:\", clf_dummy.score(X_train, y_train))\n",
    "print(\"Scoring test    :\", clf_dummy.score(X_test, y_test))"
   ]
  },
  {
   "cell_type": "code",
   "execution_count": 378,
   "metadata": {
    "scrolled": true
   },
   "outputs": [
    {
     "data": {
      "text/plain": [
       "XGBClassifier(base_score=0.5, booster='gbtree', colsample_bylevel=1,\n",
       "       colsample_bynode=1, colsample_bytree=1, gamma=0, learning_rate=0.1,\n",
       "       max_delta_step=0, max_depth=3, min_child_weight=1, missing=None,\n",
       "       n_estimators=100, n_jobs=1, nthread=None,\n",
       "       objective='binary:logistic', random_state=0, reg_alpha=0,\n",
       "       reg_lambda=1, scale_pos_weight=1, seed=None, silent=None,\n",
       "       subsample=1, verbosity=1)"
      ]
     },
     "execution_count": 378,
     "metadata": {},
     "output_type": "execute_result"
    }
   ],
   "source": [
    "from xgboost import XGBClassifier\n",
    "\n",
    "modelXGB = XGBClassifier()\n",
    "modelXGB.fit(X_train, y_train)"
   ]
  },
  {
   "cell_type": "code",
   "execution_count": 379,
   "metadata": {},
   "outputs": [
    {
     "name": "stdout",
     "output_type": "stream",
     "text": [
      "Accuracy: 77.64%\n"
     ]
    }
   ],
   "source": [
    "from sklearn.metrics import accuracy_score\n",
    "\n",
    "y_pred = modelXGB.predict(X_test)\n",
    "predictions = [round(value) for value in y_pred]\n",
    "# evaluate predictions\n",
    "accuracy = accuracy_score(y_test, predictions)\n",
    "print(\"Accuracy: %.2f%%\" % (accuracy * 100.0))"
   ]
  },
  {
   "cell_type": "code",
   "execution_count": 380,
   "metadata": {
    "scrolled": true
   },
   "outputs": [
    {
     "data": {
      "text/plain": [
       "RandomForestClassifier(bootstrap=True, class_weight=None, criterion='gini',\n",
       "            max_depth=None, max_features='auto', max_leaf_nodes=None,\n",
       "            min_impurity_decrease=0.0, min_impurity_split=None,\n",
       "            min_samples_leaf=1, min_samples_split=2,\n",
       "            min_weight_fraction_leaf=0.0, n_estimators=10, n_jobs=None,\n",
       "            oob_score=False, random_state=None, verbose=0,\n",
       "            warm_start=False)"
      ]
     },
     "execution_count": 380,
     "metadata": {},
     "output_type": "execute_result"
    }
   ],
   "source": [
    "from sklearn.ensemble import RandomForestClassifier\n",
    "\n",
    "modelRF = RandomForestClassifier()\n",
    "modelRF.fit(X_train, y_train)"
   ]
  },
  {
   "cell_type": "code",
   "execution_count": 381,
   "metadata": {},
   "outputs": [
    {
     "name": "stdout",
     "output_type": "stream",
     "text": [
      "Accuracy: 78.09%\n"
     ]
    }
   ],
   "source": [
    "from sklearn.metrics import accuracy_score\n",
    "\n",
    "y_pred = modelRF.predict(X_test)\n",
    "predictions = [round(value) for value in y_pred]\n",
    "# evaluate predictions\n",
    "accuracy = accuracy_score(y_test, predictions)\n",
    "print(\"Accuracy: %.2f%%\" % (accuracy * 100.0))"
   ]
  },
  {
   "cell_type": "markdown",
   "metadata": {},
   "source": [
    "# Aprox 5:\n",
    "##        Agrupacion Categorias + XGBoost"
   ]
  },
  {
   "cell_type": "code",
   "execution_count": 382,
   "metadata": {},
   "outputs": [],
   "source": [
    "df=pd.read_csv(\"paso_2_agrupaciones.csv\", sep=',')"
   ]
  },
  {
   "cell_type": "code",
   "execution_count": 383,
   "metadata": {},
   "outputs": [],
   "source": [
    "df.drop([\"Unnamed: 0\", \"ward_id\"], axis=1, inplace=True)"
   ]
  },
  {
   "cell_type": "code",
   "execution_count": 384,
   "metadata": {},
   "outputs": [],
   "source": [
    "from sklearn.preprocessing import LabelEncoder\n",
    "le= LabelEncoder()\n",
    "\n",
    "df.damage_grade = le.fit_transform(df.damage_grade)"
   ]
  },
  {
   "cell_type": "code",
   "execution_count": 385,
   "metadata": {},
   "outputs": [
    {
     "data": {
      "text/plain": [
       "count_floors_pre_eq                         int64\n",
       "age_building                              float64\n",
       "plinth_area_sq_ft                         float64\n",
       "height_ft_pre_eq                          float64\n",
       "land_surface_condition                     object\n",
       "foundation_type                            object\n",
       "roof_type                                  object\n",
       "ground_floor_type                          object\n",
       "other_floor_type                           object\n",
       "position                                   object\n",
       "plan_configuration                         object\n",
       "has_superstructure_adobe_mud                int64\n",
       "has_superstructure_mud_mortar_stone         int64\n",
       "has_superstructure_stone_flag               int64\n",
       "has_superstructure_cement_mortar_stone      int64\n",
       "has_superstructure_mud_mortar_brick         int64\n",
       "has_superstructure_cement_mortar_brick      int64\n",
       "has_superstructure_timber                   int64\n",
       "has_superstructure_bamboo                   int64\n",
       "has_superstructure_rc_non_engineered        int64\n",
       "has_superstructure_rc_engineered            int64\n",
       "has_superstructure_other                    int64\n",
       "damage_grade                                int32\n",
       "legal_ownership_status                     object\n",
       "count_families                              int64\n",
       "has_secondary_use                           int64\n",
       "gender_household_head                      object\n",
       "age_household_head                          int64\n",
       "caste_household                            object\n",
       "education_level_household_head             object\n",
       "income_level_household                     object\n",
       "size_household                            float64\n",
       "is_bank_account_present_in_household        int64\n",
       "dtype: object"
      ]
     },
     "execution_count": 385,
     "metadata": {},
     "output_type": "execute_result"
    }
   ],
   "source": [
    "df.dtypes"
   ]
  },
  {
   "cell_type": "code",
   "execution_count": 386,
   "metadata": {},
   "outputs": [],
   "source": [
    "df_num= pd.get_dummies(df, drop_first= False) "
   ]
  },
  {
   "cell_type": "code",
   "execution_count": 387,
   "metadata": {},
   "outputs": [],
   "source": [
    "X= df_num.drop([\"damage_grade\"], axis=1)\n",
    "y= df_num.damage_grade"
   ]
  },
  {
   "cell_type": "code",
   "execution_count": 388,
   "metadata": {},
   "outputs": [],
   "source": [
    "from sklearn.model_selection import train_test_split\n",
    "X_train, X_test, y_train, y_test = train_test_split (X, y, test_size=0.4, random_state=0)"
   ]
  },
  {
   "cell_type": "code",
   "execution_count": 389,
   "metadata": {},
   "outputs": [
    {
     "name": "stdout",
     "output_type": "stream",
     "text": [
      "Scoring training: 0.6048471153454664\n",
      "Scoring test    : 0.6043208745572248\n"
     ]
    }
   ],
   "source": [
    "from sklearn.dummy import DummyClassifier\n",
    "\n",
    "clf_dummy = DummyClassifier(strategy='most_frequent')\n",
    "clf_dummy.fit(X_train,y_train)\n",
    "\n",
    "print(\"Scoring training:\", clf_dummy.score(X_train, y_train))\n",
    "print(\"Scoring test    :\", clf_dummy.score(X_test, y_test))"
   ]
  },
  {
   "cell_type": "code",
   "execution_count": 390,
   "metadata": {},
   "outputs": [
    {
     "data": {
      "text/plain": [
       "XGBClassifier(base_score=0.5, booster='gbtree', colsample_bylevel=1,\n",
       "       colsample_bynode=1, colsample_bytree=1, gamma=0, learning_rate=0.1,\n",
       "       max_delta_step=0, max_depth=3, min_child_weight=1, missing=None,\n",
       "       n_estimators=100, n_jobs=1, nthread=None,\n",
       "       objective='binary:logistic', random_state=0, reg_alpha=0,\n",
       "       reg_lambda=1, scale_pos_weight=1, seed=None, silent=None,\n",
       "       subsample=1, verbosity=1)"
      ]
     },
     "execution_count": 390,
     "metadata": {},
     "output_type": "execute_result"
    }
   ],
   "source": [
    "from xgboost import XGBClassifier\n",
    "\n",
    "modelXGB = XGBClassifier()\n",
    "modelXGB.fit(X_train, y_train)"
   ]
  },
  {
   "cell_type": "code",
   "execution_count": 391,
   "metadata": {},
   "outputs": [
    {
     "name": "stdout",
     "output_type": "stream",
     "text": [
      "Accuracy: 74.10%\n"
     ]
    }
   ],
   "source": [
    "from sklearn.metrics import accuracy_score\n",
    "\n",
    "y_pred = modelXGB.predict(X_test)\n",
    "predictions = [round(value) for value in y_pred]\n",
    "# evaluate predictions\n",
    "accuracy = accuracy_score(y_test, predictions)\n",
    "print(\"Accuracy: %.2f%%\" % (accuracy * 100.0))"
   ]
  },
  {
   "cell_type": "code",
   "execution_count": 392,
   "metadata": {
    "scrolled": true
   },
   "outputs": [
    {
     "data": {
      "text/plain": [
       "RandomForestClassifier(bootstrap=True, class_weight=None, criterion='gini',\n",
       "            max_depth=None, max_features='auto', max_leaf_nodes=None,\n",
       "            min_impurity_decrease=0.0, min_impurity_split=None,\n",
       "            min_samples_leaf=1, min_samples_split=2,\n",
       "            min_weight_fraction_leaf=0.0, n_estimators=10, n_jobs=None,\n",
       "            oob_score=False, random_state=None, verbose=0,\n",
       "            warm_start=False)"
      ]
     },
     "execution_count": 392,
     "metadata": {},
     "output_type": "execute_result"
    }
   ],
   "source": [
    "from sklearn.ensemble import RandomForestClassifier\n",
    "\n",
    "modelRF = RandomForestClassifier()\n",
    "modelRF.fit(X_train, y_train)"
   ]
  },
  {
   "cell_type": "code",
   "execution_count": 393,
   "metadata": {},
   "outputs": [
    {
     "name": "stdout",
     "output_type": "stream",
     "text": [
      "Accuracy: 74.16%\n"
     ]
    }
   ],
   "source": [
    "from sklearn.metrics import accuracy_score\n",
    "\n",
    "y_pred = modelRF.predict(X_test)\n",
    "predictions = [round(value) for value in y_pred]\n",
    "# evaluate predictions\n",
    "accuracy = accuracy_score(y_test, predictions)\n",
    "print(\"Accuracy: %.2f%%\" % (accuracy * 100.0))"
   ]
  },
  {
   "cell_type": "markdown",
   "metadata": {},
   "source": [
    "# Aprox 5:\n",
    "##        Agrupacion Categorias +  RFECV"
   ]
  },
  {
   "cell_type": "code",
   "execution_count": 394,
   "metadata": {},
   "outputs": [],
   "source": [
    "df=pd.read_csv(\"paso_2_agrupaciones.csv\", sep=',')"
   ]
  },
  {
   "cell_type": "code",
   "execution_count": 395,
   "metadata": {},
   "outputs": [],
   "source": [
    "df.drop([\"Unnamed: 0\", \"ward_id\"], axis=1, inplace=True)"
   ]
  },
  {
   "cell_type": "code",
   "execution_count": 396,
   "metadata": {},
   "outputs": [],
   "source": [
    "from sklearn.preprocessing import LabelEncoder\n",
    "le= LabelEncoder()\n",
    "\n",
    "df.damage_grade = le.fit_transform(df.damage_grade)"
   ]
  },
  {
   "cell_type": "code",
   "execution_count": 397,
   "metadata": {},
   "outputs": [
    {
     "data": {
      "text/plain": [
       "count_floors_pre_eq                         int64\n",
       "age_building                              float64\n",
       "plinth_area_sq_ft                         float64\n",
       "height_ft_pre_eq                          float64\n",
       "land_surface_condition                     object\n",
       "foundation_type                            object\n",
       "roof_type                                  object\n",
       "ground_floor_type                          object\n",
       "other_floor_type                           object\n",
       "position                                   object\n",
       "plan_configuration                         object\n",
       "has_superstructure_adobe_mud                int64\n",
       "has_superstructure_mud_mortar_stone         int64\n",
       "has_superstructure_stone_flag               int64\n",
       "has_superstructure_cement_mortar_stone      int64\n",
       "has_superstructure_mud_mortar_brick         int64\n",
       "has_superstructure_cement_mortar_brick      int64\n",
       "has_superstructure_timber                   int64\n",
       "has_superstructure_bamboo                   int64\n",
       "has_superstructure_rc_non_engineered        int64\n",
       "has_superstructure_rc_engineered            int64\n",
       "has_superstructure_other                    int64\n",
       "damage_grade                                int32\n",
       "legal_ownership_status                     object\n",
       "count_families                              int64\n",
       "has_secondary_use                           int64\n",
       "gender_household_head                      object\n",
       "age_household_head                          int64\n",
       "caste_household                            object\n",
       "education_level_household_head             object\n",
       "income_level_household                     object\n",
       "size_household                            float64\n",
       "is_bank_account_present_in_household        int64\n",
       "dtype: object"
      ]
     },
     "execution_count": 397,
     "metadata": {},
     "output_type": "execute_result"
    }
   ],
   "source": [
    "df.dtypes"
   ]
  },
  {
   "cell_type": "code",
   "execution_count": 398,
   "metadata": {},
   "outputs": [],
   "source": [
    "df_num= pd.get_dummies(df, drop_first= False) "
   ]
  },
  {
   "cell_type": "code",
   "execution_count": 399,
   "metadata": {},
   "outputs": [
    {
     "data": {
      "text/plain": [
       "(818700, 67)"
      ]
     },
     "execution_count": 399,
     "metadata": {},
     "output_type": "execute_result"
    }
   ],
   "source": [
    "df_num.shape"
   ]
  },
  {
   "cell_type": "code",
   "execution_count": 401,
   "metadata": {},
   "outputs": [
    {
     "data": {
      "text/plain": [
       "count_floors_pre_eq                             int64\n",
       "age_building                                  float64\n",
       "plinth_area_sq_ft                             float64\n",
       "height_ft_pre_eq                              float64\n",
       "has_superstructure_adobe_mud                    int64\n",
       "has_superstructure_mud_mortar_stone             int64\n",
       "has_superstructure_stone_flag                   int64\n",
       "has_superstructure_cement_mortar_stone          int64\n",
       "has_superstructure_mud_mortar_brick             int64\n",
       "has_superstructure_cement_mortar_brick          int64\n",
       "has_superstructure_timber                       int64\n",
       "has_superstructure_bamboo                       int64\n",
       "has_superstructure_rc_non_engineered            int64\n",
       "has_superstructure_rc_engineered                int64\n",
       "has_superstructure_other                        int64\n",
       "damage_grade                                    int32\n",
       "count_families                                  int64\n",
       "has_secondary_use                               int64\n",
       "age_household_head                              int64\n",
       "size_household                                float64\n",
       "is_bank_account_present_in_household            int64\n",
       "land_surface_condition_Flat                     uint8\n",
       "land_surface_condition_No Flat                  uint8\n",
       "foundation_type_Mud mortar-Stone/Brick          uint8\n",
       "foundation_type_others                          uint8\n",
       "roof_type_Bamboo/Timber-Heavy roof              uint8\n",
       "roof_type_Bamboo/Timber-Light roof              uint8\n",
       "roof_type_RCC/RB/RBC                            uint8\n",
       "ground_floor_type_Mud                           uint8\n",
       "ground_floor_type_RC                            uint8\n",
       "ground_floor_type_others                        uint8\n",
       "other_floor_type_Not applicable                 uint8\n",
       "other_floor_type_RCC/RB/RBC                     uint8\n",
       "other_floor_type_Timber                         uint8\n",
       "position_Attached >1 side                       uint8\n",
       "position_Attached-1 side                        uint8\n",
       "position_Not attached                           uint8\n",
       "plan_configuration_L-shape                      uint8\n",
       "plan_configuration_Rectangular                  uint8\n",
       "plan_configuration_other                        uint8\n",
       "legal_ownership_status_No Private               uint8\n",
       "legal_ownership_status_Private                  uint8\n",
       "gender_household_head_Female                    uint8\n",
       "gender_household_head_Male                      uint8\n",
       "gender_household_head_no_familias               uint8\n",
       "caste_household_Brahman-Hill                    uint8\n",
       "caste_household_Chhetree                        uint8\n",
       "caste_household_Damai/Dholi                     uint8\n",
       "caste_household_Gurung                          uint8\n",
       "caste_household_Kami                            uint8\n",
       "caste_household_Magar                           uint8\n",
       "caste_household_Newar                           uint8\n",
       "caste_household_Other                           uint8\n",
       "caste_household_Rai                             uint8\n",
       "caste_household_Sarki                           uint8\n",
       "caste_household_Sherpa                          uint8\n",
       "caste_household_Tamang                          uint8\n",
       "caste_household_no_familias                     uint8\n",
       "education_level_household_head_High             uint8\n",
       "education_level_household_head_Illiterate       uint8\n",
       "education_level_household_head_Low              uint8\n",
       "education_level_household_head_Medium           uint8\n",
       "education_level_household_head_no_familias      uint8\n",
       "income_level_household_High                     uint8\n",
       "income_level_household_Low                      uint8\n",
       "income_level_household_Medium                   uint8\n",
       "income_level_household_no_familias              uint8\n",
       "dtype: object"
      ]
     },
     "execution_count": 401,
     "metadata": {},
     "output_type": "execute_result"
    }
   ],
   "source": [
    "df_num.dtypes"
   ]
  },
  {
   "cell_type": "code",
   "execution_count": 400,
   "metadata": {},
   "outputs": [
    {
     "name": "stdout",
     "output_type": "stream",
     "text": [
      "Accuracy: 0.838 (0.030)\n",
      "Column: 0, Selected False, Rank: 24.000\n",
      "Column: 1, Selected False, Rank: 46.000\n",
      "Column: 2, Selected False, Rank: 18.000\n",
      "Column: 3, Selected False, Rank: 30.000\n",
      "Column: 4, Selected False, Rank: 45.000\n",
      "Column: 5, Selected False, Rank: 53.000\n",
      "Column: 6, Selected False, Rank: 3.000\n",
      "Column: 7, Selected True, Rank: 1.000\n",
      "Column: 8, Selected False, Rank: 52.000\n",
      "Column: 9, Selected False, Rank: 23.000\n",
      "Column: 10, Selected False, Rank: 22.000\n",
      "Column: 11, Selected True, Rank: 1.000\n",
      "Column: 12, Selected False, Rank: 11.000\n",
      "Column: 13, Selected False, Rank: 25.000\n",
      "Column: 14, Selected False, Rank: 33.000\n",
      "Column: 15, Selected False, Rank: 8.000\n",
      "Column: 16, Selected True, Rank: 1.000\n",
      "Column: 17, Selected False, Rank: 36.000\n",
      "Column: 18, Selected True, Rank: 1.000\n",
      "Column: 19, Selected False, Rank: 19.000\n",
      "Column: 20, Selected False, Rank: 55.000\n",
      "Column: 21, Selected False, Rank: 47.000\n",
      "Column: 22, Selected False, Rank: 14.000\n",
      "Column: 23, Selected False, Rank: 17.000\n",
      "Column: 24, Selected False, Rank: 28.000\n",
      "Column: 25, Selected False, Rank: 13.000\n",
      "Column: 26, Selected False, Rank: 50.000\n",
      "Column: 27, Selected False, Rank: 4.000\n",
      "Column: 28, Selected True, Rank: 1.000\n",
      "Column: 29, Selected False, Rank: 16.000\n",
      "Column: 30, Selected False, Rank: 6.000\n",
      "Column: 31, Selected False, Rank: 2.000\n",
      "Column: 32, Selected True, Rank: 1.000\n",
      "Column: 33, Selected False, Rank: 26.000\n",
      "Column: 34, Selected False, Rank: 9.000\n",
      "Column: 35, Selected False, Rank: 40.000\n",
      "Column: 36, Selected False, Rank: 32.000\n",
      "Column: 37, Selected False, Rank: 49.000\n",
      "Column: 38, Selected False, Rank: 35.000\n",
      "Column: 39, Selected False, Rank: 42.000\n",
      "Column: 40, Selected True, Rank: 1.000\n",
      "Column: 41, Selected False, Rank: 15.000\n",
      "Column: 42, Selected False, Rank: 38.000\n",
      "Column: 43, Selected False, Rank: 21.000\n",
      "Column: 44, Selected False, Rank: 44.000\n",
      "Column: 45, Selected False, Rank: 5.000\n",
      "Column: 46, Selected True, Rank: 1.000\n",
      "Column: 47, Selected False, Rank: 34.000\n",
      "Column: 48, Selected False, Rank: 54.000\n",
      "Column: 49, Selected False, Rank: 10.000\n",
      "Column: 50, Selected True, Rank: 1.000\n",
      "Column: 51, Selected False, Rank: 7.000\n",
      "Column: 52, Selected False, Rank: 12.000\n",
      "Column: 53, Selected True, Rank: 1.000\n",
      "Column: 54, Selected False, Rank: 37.000\n",
      "Column: 55, Selected False, Rank: 39.000\n",
      "Column: 56, Selected False, Rank: 48.000\n",
      "Column: 57, Selected False, Rank: 27.000\n",
      "Column: 58, Selected True, Rank: 1.000\n",
      "Column: 59, Selected False, Rank: 51.000\n",
      "Column: 60, Selected False, Rank: 29.000\n",
      "Column: 61, Selected False, Rank: 41.000\n",
      "Column: 62, Selected True, Rank: 1.000\n",
      "Column: 63, Selected False, Rank: 43.000\n",
      "Column: 64, Selected False, Rank: 20.000\n",
      "Column: 65, Selected False, Rank: 31.000\n"
     ]
    }
   ],
   "source": [
    "# automatically select the number of features for RFE\n",
    "from numpy import mean\n",
    "from numpy import std\n",
    "from sklearn.datasets import make_classification\n",
    "from sklearn.model_selection import cross_val_score\n",
    "from sklearn.model_selection import RepeatedStratifiedKFold\n",
    "from sklearn.feature_selection import RFECV\n",
    "from sklearn.tree import DecisionTreeClassifier\n",
    "from sklearn.pipeline import Pipeline\n",
    "# define dataset\n",
    "X, y = make_classification(n_samples=1000, n_features=66, n_informative=10, n_redundant=10, random_state=1)\n",
    "# create pipeline\n",
    "rfe = RFECV(estimator=RandomForestClassifier())\n",
    "model = DecisionTreeClassifier()\n",
    "pipeline = Pipeline(steps=[('s',rfe),('m',model)])\n",
    "# evaluate model\n",
    "cv = RepeatedStratifiedKFold(n_splits=10, n_repeats=3, random_state=1)\n",
    "n_scores = cross_val_score(pipeline, X, y, scoring='accuracy', cv=cv, n_jobs=-1, error_score='raise')\n",
    "# report performance\n",
    "print('Accuracy: %.3f (%.3f)' % (mean(n_scores), std(n_scores)))\n",
    "# fit RFE\n",
    "rfe.fit(X, y)\n",
    "# summarize all features\n",
    "for i in range(X.shape[1]):\n",
    "    print('Column: %d, Selected %s, Rank: %.3f' % (i, rfe.support_[i], rfe.ranking_[i]))"
   ]
  },
  {
   "cell_type": "code",
   "execution_count": null,
   "metadata": {},
   "outputs": [],
   "source": [
    "# rank 1\n",
    "\"has_superstructure_cement_mortar_stone\",\n",
    "\"has_superstructure_bamboo\",\n",
    "\"has_secondary_use\",\n",
    "\"size_household\",\n",
    "\"ground_floor_type_RC\",\n",
    "\"other_floor_type_Timber\",\n",
    "\"legal_ownership_status_Private\",\n",
    "\"caste_household_Damai/Dholi\",\n",
    "\"caste_household_Newar\",\n",
    "\"caste_household_Sarki\",\n",
    "\"education_level_household_head_Illiterate\",\n",
    "\"income_level_household_High\",\n",
    "\n",
    "\n",
    "#resto\n",
    "\"other_floor_type_RCC/RB/RBC\",\n",
    "\"has_superstructure_stone_flag\",\n",
    "\"ground_floor_type_Mud\",\n",
    "\"caste_household_Chhetree\",\n",
    "\"other_floor_type_Not applicable\",\n",
    "\"caste_household_Other\",\n",
    "\"count_families\",\n",
    "\"position_Attached-1 side\",\n",
    "\"caste_household_Magar\",\n",
    "\"has_superstructure_rc_non_engineered\",\n",
    "\"caste_household_Rai\",\n",
    "\"roof_type_Bamboo/Timber-Light roof\",\n",
    "\"foundation_type_Mud mortar-Stone/Brick\",\n",
    "\"gender_household_head_Female\",\n",
    "\"ground_floor_type_others\",\n",
    "\"foundation_type_others\",\n",
    "\"plinth_area_sq_ft\",\n",
    "\"is_bank_account_present_in_household\",\n",
    "\"income_level_household_Medium\",\n",
    "\"gender_household_head_no_familias\",\n",
    "\"has_superstructure_timber\",\n",
    "\"has_superstructure_cement_mortar_brick\",\n",
    "\"count_floors_pre_eq\",\n",
    "\"has_superstructure_rc_engineered\",\n",
    "\"position_Attached >1 side\",\n",
    "\"education_level_household_head_High\",\n",
    "\"roof_type_Bamboo/Timber-Heavy roof\",\n",
    "\"education_level_household_head_Medium\",\n",
    "\"height_ft_pre_eq\",\n",
    "\"income_level_household_no_familias\",\n",
    "\"plan_configuration_L-shape\",\n",
    "\"has_superstructure_other\",\n",
    "\"caste_household_Gurung\",\n",
    "\"plan_configuration_other\",\n",
    "\"age_household_head\",\n",
    "\"caste_household_Sherpa\",\n",
    "\"gender_household_head_Male\",\n",
    "\"caste_household_Tamang\",\n",
    "\"position_Not attached\",\n",
    "\"education_level_household_head_no_familias\",\n",
    "\"legal_ownership_status_No Private\",\n",
    "\"income_level_household_Low\",\n",
    "\"caste_household_Brahman-Hill\",\n",
    "\"has_superstructure_adobe_mud\",\n",
    "\"age_building\",\n",
    "\"land_surface_condition_No Flat\",\n",
    "\"caste_household_no_familias\",\n",
    "\"plan_configuration_Rectangular\",\n",
    "\"roof_type_RCC/RB/RBC\",\n",
    "\"education_level_household_head_Low\",\n",
    "\"has_superstructure_mud_mortar_brick\",\n",
    "\"has_superstructure_mud_mortar_stone\",\n",
    "\"caste_household_Kami\",\n",
    "\"land_surface_condition_Flat\",\n"
   ]
  },
  {
   "cell_type": "code",
   "execution_count": 409,
   "metadata": {},
   "outputs": [],
   "source": [
    "df_aprox6 = df_num.drop([\"other_floor_type_RCC/RB/RBC\",\n",
    "\"has_superstructure_stone_flag\",\n",
    "\"ground_floor_type_Mud\",\n",
    "\"caste_household_Chhetree\",\n",
    "\"other_floor_type_Not applicable\",\n",
    "\"caste_household_Other\",\n",
    "\"count_families\",\n",
    "\"position_Attached-1 side\",\n",
    "\"caste_household_Magar\",\n",
    "\"has_superstructure_rc_non_engineered\",\n",
    "\"caste_household_Rai\",\n",
    "\"roof_type_Bamboo/Timber-Light roof\",\n",
    "\"foundation_type_Mud mortar-Stone/Brick\",\n",
    "\"gender_household_head_Female\",\n",
    "\"ground_floor_type_others\",\n",
    "\"foundation_type_others\",\n",
    "\"plinth_area_sq_ft\",\n",
    "\"is_bank_account_present_in_household\",\n",
    "\"income_level_household_Medium\",\n",
    "\"gender_household_head_no_familias\",\n",
    "\"has_superstructure_timber\",\n",
    "\"has_superstructure_cement_mortar_brick\",\n",
    "\"count_floors_pre_eq\",\n",
    "\"has_superstructure_rc_engineered\",\n",
    "\"position_Attached >1 side\",\n",
    "\"education_level_household_head_High\",\n",
    "\"roof_type_Bamboo/Timber-Heavy roof\",\n",
    "\"education_level_household_head_Medium\",\n",
    "\"height_ft_pre_eq\",\n",
    "\"income_level_household_no_familias\",\n",
    "\"plan_configuration_L-shape\",\n",
    "\"has_superstructure_other\",\n",
    "\"caste_household_Gurung\",\n",
    "\"plan_configuration_other\",\n",
    "\"age_household_head\",\n",
    "\"caste_household_Sherpa\",\n",
    "\"gender_household_head_Male\",\n",
    "\"caste_household_Tamang\",\n",
    "\"position_Not attached\",\n",
    "\"education_level_household_head_no_familias\",\n",
    "\"legal_ownership_status_No Private\",\n",
    "\"income_level_household_Low\",\n",
    "\"caste_household_Brahman-Hill\",\n",
    "\"has_superstructure_adobe_mud\",\n",
    "\"age_building\",\n",
    "\"land_surface_condition_No Flat\",\n",
    "\"caste_household_no_familias\",\n",
    "\"plan_configuration_Rectangular\",\n",
    "\"roof_type_RCC/RB/RBC\",\n",
    "\"education_level_household_head_Low\",\n",
    "\"has_superstructure_mud_mortar_brick\",\n",
    "\"has_superstructure_mud_mortar_stone\",\n",
    "\"caste_household_Kami\",\n",
    "\"land_surface_condition_Flat\"], axis=1)"
   ]
  },
  {
   "cell_type": "code",
   "execution_count": 410,
   "metadata": {},
   "outputs": [],
   "source": [
    "from sklearn.model_selection import train_test_split\n",
    "\n",
    "X= df_aprox5.drop([\"damage_grade\"], axis=1)\n",
    "y= df_aprox5.damage_grade\n",
    "\n",
    "X_train, X_test, y_train, y_test = train_test_split (X, y, test_size=0.4)"
   ]
  },
  {
   "cell_type": "code",
   "execution_count": 411,
   "metadata": {},
   "outputs": [
    {
     "name": "stdout",
     "output_type": "stream",
     "text": [
      "Scoring training: 0.6044684662676602\n",
      "Scoring test    : 0.6048888481739343\n"
     ]
    }
   ],
   "source": [
    "from sklearn.dummy import DummyClassifier\n",
    "\n",
    "clf_dummy = DummyClassifier(strategy='most_frequent')\n",
    "clf_dummy.fit(X_train,y_train)\n",
    "\n",
    "print(\"Scoring training:\", clf_dummy.score(X_train, y_train))\n",
    "print(\"Scoring test    :\", clf_dummy.score(X_test, y_test))"
   ]
  },
  {
   "cell_type": "markdown",
   "metadata": {},
   "source": [
    "### Aplicamos un XGBoost y un RF"
   ]
  },
  {
   "cell_type": "code",
   "execution_count": 412,
   "metadata": {},
   "outputs": [
    {
     "data": {
      "text/plain": [
       "XGBClassifier(base_score=0.5, booster='gbtree', colsample_bylevel=1,\n",
       "       colsample_bynode=1, colsample_bytree=1, gamma=0, learning_rate=0.1,\n",
       "       max_delta_step=0, max_depth=3, min_child_weight=1, missing=None,\n",
       "       n_estimators=100, n_jobs=1, nthread=None,\n",
       "       objective='binary:logistic', random_state=0, reg_alpha=0,\n",
       "       reg_lambda=1, scale_pos_weight=1, seed=None, silent=None,\n",
       "       subsample=1, verbosity=1)"
      ]
     },
     "execution_count": 412,
     "metadata": {},
     "output_type": "execute_result"
    }
   ],
   "source": [
    "from xgboost import XGBClassifier\n",
    "\n",
    "modelXGB = XGBClassifier()\n",
    "modelXGB.fit(X_train, y_train)"
   ]
  },
  {
   "cell_type": "code",
   "execution_count": 413,
   "metadata": {},
   "outputs": [
    {
     "name": "stdout",
     "output_type": "stream",
     "text": [
      "Accuracy: 69.76%\n"
     ]
    }
   ],
   "source": [
    "from sklearn.metrics import accuracy_score\n",
    "\n",
    "y_pred = modelXGB.predict(X_test)\n",
    "predictions = [round(value) for value in y_pred]\n",
    "# evaluate predictions\n",
    "accuracy = accuracy_score(y_test, predictions)\n",
    "print(\"Accuracy: %.2f%%\" % (accuracy * 100.0))"
   ]
  },
  {
   "cell_type": "code",
   "execution_count": 414,
   "metadata": {},
   "outputs": [
    {
     "data": {
      "text/plain": [
       "RandomForestClassifier(bootstrap=True, class_weight=None, criterion='gini',\n",
       "            max_depth=None, max_features='auto', max_leaf_nodes=None,\n",
       "            min_impurity_decrease=0.0, min_impurity_split=None,\n",
       "            min_samples_leaf=1, min_samples_split=2,\n",
       "            min_weight_fraction_leaf=0.0, n_estimators=10, n_jobs=None,\n",
       "            oob_score=False, random_state=None, verbose=0,\n",
       "            warm_start=False)"
      ]
     },
     "execution_count": 414,
     "metadata": {},
     "output_type": "execute_result"
    }
   ],
   "source": [
    "from sklearn.ensemble import RandomForestClassifier\n",
    "\n",
    "modelRF = RandomForestClassifier()\n",
    "modelRF.fit(X_train, y_train)"
   ]
  },
  {
   "cell_type": "code",
   "execution_count": 415,
   "metadata": {},
   "outputs": [
    {
     "name": "stdout",
     "output_type": "stream",
     "text": [
      "Accuracy: 69.66%\n"
     ]
    }
   ],
   "source": [
    "from sklearn.metrics import accuracy_score\n",
    "\n",
    "y_pred = modelRF.predict(X_test)\n",
    "predictions = [round(value) for value in y_pred]\n",
    "# evaluate predictions\n",
    "accuracy = accuracy_score(y_test, predictions)\n",
    "print(\"Accuracy: %.2f%%\" % (accuracy * 100.0))"
   ]
  }
 ],
 "metadata": {
  "kernelspec": {
   "display_name": "Python 3",
   "language": "python",
   "name": "python3"
  },
  "language_info": {
   "codemirror_mode": {
    "name": "ipython",
    "version": 3
   },
   "file_extension": ".py",
   "mimetype": "text/x-python",
   "name": "python",
   "nbconvert_exporter": "python",
   "pygments_lexer": "ipython3",
   "version": "3.7.5"
  }
 },
 "nbformat": 4,
 "nbformat_minor": 2
}
